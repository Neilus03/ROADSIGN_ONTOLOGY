{
  "nbformat": 4,
  "nbformat_minor": 0,
  "metadata": {
    "colab": {
      "provenance": []
    },
    "kernelspec": {
      "name": "python3",
      "display_name": "Python 3"
    },
    "language_info": {
      "name": "python"
    }
  },
  "cells": [
    {
      "cell_type": "markdown",
      "source": [
        "# Set Up"
      ],
      "metadata": {
        "id": "_a1mKNlKCXWR"
      }
    },
    {
      "cell_type": "code",
      "execution_count": 10,
      "metadata": {
        "id": "P8cGCbMjjawD"
      },
      "outputs": [],
      "source": [
        "!pip3 install -Uq owlready2"
      ]
    },
    {
      "cell_type": "code",
      "source": [
        "from owlready2 import *\n",
        "from IPython.display import Image, display"
      ],
      "metadata": {
        "id": "r8yFUfg-tFtQ"
      },
      "execution_count": 11,
      "outputs": []
    },
    {
      "cell_type": "code",
      "source": [
        "file_name = \"DefinitivaPopulada.rdf\" #The name of the rdf file containing our populated ontology\n",
        "onto = get_ontology(f\"/content/{file_name}\").load()"
      ],
      "metadata": {
        "id": "P3ySa5dxjei8"
      },
      "execution_count": 50,
      "outputs": []
    },
    {
      "cell_type": "code",
      "source": [
        "sync_reasoner()"
      ],
      "metadata": {
        "colab": {
          "base_uri": "https://localhost:8080/"
        },
        "id": "Te-0EOG2tHbo",
        "outputId": "5f7eab7b-cc97-4b6e-ad19-e61e604de5ae"
      },
      "execution_count": 51,
      "outputs": [
        {
          "output_type": "stream",
          "name": "stderr",
          "text": [
            "* Owlready2 * Running HermiT...\n",
            "    java -Xmx2000M -cp /usr/local/lib/python3.10/dist-packages/owlready2/hermit:/usr/local/lib/python3.10/dist-packages/owlready2/hermit/HermiT.jar org.semanticweb.HermiT.cli.CommandLine -c -O -D -I file:////tmp/tmplo7wqboe\n",
            "* Owlready2 * HermiT took 2.0453603267669678 seconds\n",
            "* Owlready * (NB: only changes on entities loaded in Python are shown, other changes are done but not listed)\n"
          ]
        }
      ]
    },
    {
      "cell_type": "markdown",
      "source": [
        "## List of classes in the Ontology"
      ],
      "metadata": {
        "id": "_2w0rqYgra3q"
      }
    },
    {
      "cell_type": "code",
      "source": [
        "for class_ in onto.classes():\n",
        "  print(class_)"
      ],
      "metadata": {
        "colab": {
          "base_uri": "https://localhost:8080/"
        },
        "id": "9LforWhPqRjb",
        "outputId": "05ecb008-5a57-4aef-ecd7-53ce7bd54437"
      },
      "execution_count": 78,
      "outputs": [
        {
          "output_type": "stream",
          "name": "stdout",
          "text": [
            "DefinitivaPopulada.RoadSign\n",
            "DefinitivaPopulada.Color\n",
            "DefinitivaPopulada.Shape\n",
            "DefinitivaPopulada.Symbol\n",
            "DefinitivaPopulada.Care_2ways\n",
            "DefinitivaPopulada.DangerWarningSign\n",
            "DefinitivaPopulada.Care_Children\n",
            "DefinitivaPopulada.Care_Danger\n",
            "DefinitivaPopulada.Care_DangerousDescent\n",
            "DefinitivaPopulada.Care_DangerousShoulder\n",
            "DefinitivaPopulada.Care_Intersection\n",
            "DefinitivaPopulada.Care_Pedestrian\n",
            "DefinitivaPopulada.Care_PedestrianCrossing\n",
            "DefinitivaPopulada.Care_Roundabout\n",
            "DefinitivaPopulada.Care_UnevenRoad\n",
            "DefinitivaPopulada.CycleTrack\n",
            "DefinitivaPopulada.MandatorySign\n",
            "DefinitivaPopulada.DirectionSign\n",
            "DefinitivaPopulada.InformativeSign\n",
            "DefinitivaPopulada.EscolaPostgrau\n",
            "DefinitivaPopulada.GiveWay\n",
            "DefinitivaPopulada.PrioritySign\n",
            "DefinitivaPopulada.InformationSign\n",
            "DefinitivaPopulada.LorryMass\n",
            "DefinitivaPopulada.NoEntryMass\n",
            "DefinitivaPopulada.MandatoryDirection\n",
            "DefinitivaPopulada.MandatoryRoundabout\n",
            "DefinitivaPopulada.RegulatorySign\n",
            "DefinitivaPopulada.Mass\n",
            "DefinitivaPopulada.MassOnAxle\n",
            "DefinitivaPopulada.MaxSpeedLimit\n",
            "DefinitivaPopulada.ProhibitorySign\n",
            "DefinitivaPopulada.NoEntryHeight\n",
            "DefinitivaPopulada.NoParking\n",
            "DefinitivaPopulada.NotProceedBeyondThisPoint\n",
            "DefinitivaPopulada.Parking\n",
            "DefinitivaPopulada.SpecialRegulationsSign\n",
            "DefinitivaPopulada.ParkingMotos\n",
            "DefinitivaPopulada.PassThisSide\n",
            "DefinitivaPopulada.Pedestrian\n",
            "DefinitivaPopulada.PedestrianCrossing\n",
            "DefinitivaPopulada.RoadFromLeft\n",
            "DefinitivaPopulada.RoadFromRight\n",
            "DefinitivaPopulada.SortidaBombers\n",
            "DefinitivaPopulada.StopSign\n",
            "DefinitivaPopulada.TramEscales\n",
            "DefinitivaPopulada.ZonaInundable\n",
            "DefinitivaPopulada.12_Percent\n",
            "DefinitivaPopulada.20\n",
            "DefinitivaPopulada.30\n",
            "roadsign.ExcepteEmergències\n"
          ]
        }
      ]
    },
    {
      "cell_type": "markdown",
      "source": [
        "# COMPETENCY QUESTIONS"
      ],
      "metadata": {
        "id": "h2mZqFMTAMWD"
      }
    },
    {
      "cell_type": "markdown",
      "source": [
        "*Competency questions are essential in ontology development as they help us understand and query the knowledge represented within the ontology. In this context, we have identified a list of competency questions related to road signs ontology. Let's explore them:*\n",
        "\n",
        "1. **What is the shape of ‘danger warning’ signs?**\n",
        "This question focuses on understanding the shape attribute specifically for 'danger warning' signs. It helps identify the common shape associated with this type of road sign.\n",
        "\n",
        "2. **Which road signs are relevant to pedestrians?**\n",
        "Here, we aim to identify road signs that are specifically related to pedestrians. This question helps determine the signs that provide instructions or warnings specifically targeted at pedestrians.\n",
        "\n",
        "3. **Which road signs are depicted in image IMG_20230202_154357.jpg?**\n",
        "This question looks at a specific image and aims to identify the road signs depicted in it. It helps understand the road signs present in the provided image.\n",
        "\n",
        "4. **Are there instances of a ‘compulsory minimum speed’ sign?**\n",
        "This question seeks to determine if there are any instances of road signs indicating a compulsory minimum speed. It helps identify if such signs are present in the ontology.\n",
        "\n",
        "5. **What percentage of road signs depicted in the image repository are prohibitory signs?**\n",
        "This question focuses on the images in the repository and calculates the percentage of road signs that are prohibitory in nature. It provides insights into the proportion of prohibitory signs among the depicted road signs.\n",
        "\n",
        "6. **Is there any road sign in the image repository that informs about a restriction applicable to lorries or other large vehicles?**\n",
        "This question aims to identify if there are any road signs in the image repository that provide information about restrictions specifically applicable to lorries or other large vehicles.\n",
        "\n",
        "7. **Which border colour do circle-shaped road signs have?**\n",
        "Here, we explore the border color attribute specifically for circle-shaped road signs. The question helps identify the common border color associated with this shape.\n",
        "\n",
        "8. **Which images contain ‘stop’ signs?**\n",
        "This question focuses on identifying the images that contain 'stop' signs. It helps locate images that depict this specific type of road sign.\n",
        "\n",
        "9. **Is there an image depicting both a danger warning sign and a prohibitory sign?**\n",
        "The question seeks to identify if there is an image in the repository that contains both a danger warning sign and a prohibitory sign. It helps determine if such combined signs exist.\n",
        "\n",
        "10. **Which is the maximum speed shown on most speed limit signs?**\n",
        "This question aims to determine the highest speed limit value displayed on the majority of speed limit signs. It helps identify the most common maximum speed depicted.\n",
        "\n",
        "11. **How many 'CycleTrack' road sign instances are there?**\n",
        "Here, we want to count the number of instances of road signs that belong to the 'CycleTrack' type. It provides the quantity of such road signs in the ontology.\n",
        "\n",
        "12. **What's the color scheme of CycleTrack road signs?**\n",
        "This question explores the color scheme (border color, ground color, and symbol color) specific to 'CycleTrack' road signs. It helps understand the common color combinations associated with this type of road sign.\n",
        "\n",
        "13. **Which road signs have a symbol color that is not black?**\n",
        "This question focuses on identifying road signs that have a symbol color other than black. It helps locate road signs with different symbol color variations.\n",
        "\n",
        "14. **Which road signs in the database have the maximum number of different colors?**\n",
        "Here, we aim to identify the road signs that have the highest number of different colors within their color scheme. It provides insights into the diversity of colors used in road signs.\n",
        "\n",
        "15. **Which road signs in the database have the minimum number of different colors?**\n",
        "Similar to the previous question, this one aims to identify the road signs with the lowest number of different colors within their color scheme. It helps understand road signs with\n",
        "limited color variations.\n",
        "\n",
        "16. **Which is the most common symbol across all road signs in the dataset?**\n",
        "This question focuses on finding the symbol that appears most frequently across all road signs in the dataset. It helps identify the symbol that is commonly used in road signs.\n",
        "\n",
        "17. **Which is the most common road sign type in this dataset?**\n",
        "Here, we aim to determine the road sign type that has the highest number of instances in the dataset. It helps identify the most prevalent road sign type in terms of frequency.\n",
        "\n",
        "*By answering these competency questions, we can gain valuable insights into the road signs ontology, understand the characteristics of different road signs, and analyze their attributes and relationships.*"
      ],
      "metadata": {
        "id": "k4EqHeg8BG94"
      }
    },
    {
      "cell_type": "markdown",
      "source": [
        "## What is the shape of ‘danger warning’ signs?"
      ],
      "metadata": {
        "id": "OHupw8v_3GLo"
      }
    },
    {
      "cell_type": "code",
      "source": [
        "def RoadSign_Types_Shapes(RoadSign_Type):                              #RoadSign_Type can take one of the elements inside onto.classes()\n",
        "  RoadSign_Type = eval(\"onto.\" + RoadSign_Type)\n",
        "\n",
        "  shapes = set()                                                       #Set to stored the different Shapes we find.\n",
        "  RoadSigns_shapes = []                                                #List to stored the images with the given shape.\n",
        "  if RoadSign_Type in onto.classes():                                  #Check if the RoadSign_Type is inside the ontology classes\n",
        "    for individual in onto.individuals():\n",
        "      if isinstance(individual, RoadSign_Type):                        #If the individual is of the RoadSing_Type enter the if statment\n",
        "        shapes.add(str(individual.shape).replace(file_name + '.', \"\")) #The way a shape is stored is the name of the file of the ontology followed by a dot and the shape. (filename.shape) \n",
        "        RoadSigns_shapes.append(individual.filename[0])\n",
        "  return shapes, RoadSigns_shapes"
      ],
      "metadata": {
        "id": "-2zCfzYPqFCP"
      },
      "execution_count": 80,
      "outputs": []
    },
    {
      "cell_type": "code",
      "source": [
        "RoadSign_Type = \"DangerWarningSign\"\n",
        "shapes, RoadSigns_shapes = RoadSign_Types_Shapes(RoadSign_Type)\n",
        "print(f\"The shape of a {RoadSign_Type} is a: {shapes} and the instances containing these shapes are:\")\n",
        "for image in RoadSigns_shapes:\n",
        "  display(Image(url=image))"
      ],
      "metadata": {
        "colab": {
          "base_uri": "https://localhost:8080/",
          "height": 1000
        },
        "id": "b9JBZOZqxyVz",
        "outputId": "91ab9799-3205-4433-a319-590b67905905"
      },
      "execution_count": 81,
      "outputs": [
        {
          "output_type": "stream",
          "name": "stdout",
          "text": [
            "The shape of a DangerWarningSign is a: {'DefinitivaPopulada.TRIANGLE'} and the instances containing these shapes are:\n"
          ]
        },
        {
          "output_type": "display_data",
          "data": {
            "text/html": [
              "<img src=\"http://www.iiia.csic.es/~marco/kr/images/IMG_20230314_151100.jpg\"/>"
            ],
            "text/plain": [
              "<IPython.core.display.Image object>"
            ]
          },
          "metadata": {}
        },
        {
          "output_type": "display_data",
          "data": {
            "text/html": [
              "<img src=\"http://www.iiia.csic.es/~marco/kr/images/IMG_20230314_151153.jpg\"/>"
            ],
            "text/plain": [
              "<IPython.core.display.Image object>"
            ]
          },
          "metadata": {}
        },
        {
          "output_type": "display_data",
          "data": {
            "text/html": [
              "<img src=\"http://www.iiia.csic.es/~marco/kr/images/IMG_20230314_184212.jpg\"/>"
            ],
            "text/plain": [
              "<IPython.core.display.Image object>"
            ]
          },
          "metadata": {}
        },
        {
          "output_type": "display_data",
          "data": {
            "text/html": [
              "<img src=\"http://www.iiia.csic.es/~marco/kr/images/IMG_20230202_153449.jpg\"/>"
            ],
            "text/plain": [
              "<IPython.core.display.Image object>"
            ]
          },
          "metadata": {}
        },
        {
          "output_type": "display_data",
          "data": {
            "text/html": [
              "<img src=\"http://www.iiia.csic.es/~marco/kr/images/IMG_20230314_150646.jpg\"/>"
            ],
            "text/plain": [
              "<IPython.core.display.Image object>"
            ]
          },
          "metadata": {}
        },
        {
          "output_type": "display_data",
          "data": {
            "text/html": [
              "<img src=\"http://www.iiia.csic.es/~marco/kr/images/IMG_20230202_154451.jpg\"/>"
            ],
            "text/plain": [
              "<IPython.core.display.Image object>"
            ]
          },
          "metadata": {}
        },
        {
          "output_type": "display_data",
          "data": {
            "text/html": [
              "<img src=\"http://www.iiia.csic.es/~marco/kr/images/IMG_20230202_153534.jpg\"/>"
            ],
            "text/plain": [
              "<IPython.core.display.Image object>"
            ]
          },
          "metadata": {}
        },
        {
          "output_type": "display_data",
          "data": {
            "text/html": [
              "<img src=\"http://www.iiia.csic.es/~marco/kr/images/IMG_20230314_150834.jpg\"/>"
            ],
            "text/plain": [
              "<IPython.core.display.Image object>"
            ]
          },
          "metadata": {}
        },
        {
          "output_type": "display_data",
          "data": {
            "text/html": [
              "<img src=\"http://www.iiia.csic.es/~marco/kr/images/IMG_20230314_150834.jpg\"/>"
            ],
            "text/plain": [
              "<IPython.core.display.Image object>"
            ]
          },
          "metadata": {}
        },
        {
          "output_type": "display_data",
          "data": {
            "text/html": [
              "<img src=\"http://www.iiia.csic.es/~marco/kr/images/IMG_20230314_150236.jpg\"/>"
            ],
            "text/plain": [
              "<IPython.core.display.Image object>"
            ]
          },
          "metadata": {}
        },
        {
          "output_type": "display_data",
          "data": {
            "text/html": [
              "<img src=\"http://www.iiia.csic.es/~marco/kr/images/IMG_20230314_184317.jpg\"/>"
            ],
            "text/plain": [
              "<IPython.core.display.Image object>"
            ]
          },
          "metadata": {}
        },
        {
          "output_type": "display_data",
          "data": {
            "text/html": [
              "<img src=\"http://www.iiia.csic.es/~marco/kr/images/IMG_20230202_154357.jpg\"/>"
            ],
            "text/plain": [
              "<IPython.core.display.Image object>"
            ]
          },
          "metadata": {}
        },
        {
          "output_type": "display_data",
          "data": {
            "text/html": [
              "<img src=\"http://www.iiia.csic.es/~marco/kr/images/IMG_20230314_150134.jpg\"/>"
            ],
            "text/plain": [
              "<IPython.core.display.Image object>"
            ]
          },
          "metadata": {}
        },
        {
          "output_type": "display_data",
          "data": {
            "text/html": [
              "<img src=\"http://www.iiia.csic.es/~marco/kr/images/IMG_20230202_154357.jpg\"/>"
            ],
            "text/plain": [
              "<IPython.core.display.Image object>"
            ]
          },
          "metadata": {}
        },
        {
          "output_type": "display_data",
          "data": {
            "text/html": [
              "<img src=\"http://www.iiia.csic.es/~marco/kr/images/IMG_20230202_154050.jpg\"/>"
            ],
            "text/plain": [
              "<IPython.core.display.Image object>"
            ]
          },
          "metadata": {}
        },
        {
          "output_type": "display_data",
          "data": {
            "text/html": [
              "<img src=\"http://www.iiia.csic.es/~marco/kr/images/IMG_20230202_154425.jpg\"/>"
            ],
            "text/plain": [
              "<IPython.core.display.Image object>"
            ]
          },
          "metadata": {}
        },
        {
          "output_type": "display_data",
          "data": {
            "text/html": [
              "<img src=\"http://www.iiia.csic.es/~marco/kr/images/IMG_20230202_153829.jpg\"/>"
            ],
            "text/plain": [
              "<IPython.core.display.Image object>"
            ]
          },
          "metadata": {}
        },
        {
          "output_type": "display_data",
          "data": {
            "text/html": [
              "<img src=\"http://www.iiia.csic.es/~marco/kr/images/IMG_20230314_150907.jpg\"/>"
            ],
            "text/plain": [
              "<IPython.core.display.Image object>"
            ]
          },
          "metadata": {}
        }
      ]
    },
    {
      "cell_type": "markdown",
      "source": [
        "## Function that we we´ll use in many competency questions that find roadsings matching some restrictions"
      ],
      "metadata": {
        "id": "MhOXOjy7_22I"
      }
    },
    {
      "cell_type": "code",
      "source": [
        "#Function that given a object property, returns those roadsigns that meet the condition for an specific object properti\n",
        "#We use this function when ever we look for a rodasing with a specific caracteristic in an attribute\n",
        "\n",
        "def RoadSign_conditions_property(*args, object_property):\n",
        "  instances_restrictions = []\n",
        "  for individual in onto.individuals():\n",
        "      # Check if the individual represents\n",
        "      if isinstance(individual, onto.RoadSign):\n",
        "        individual_property = getattr(individual, object_property)\n",
        "        if len(individual_property) > 0 and individual_property[0] is not None:\n",
        "          if any(True if condition in str(individual_property[0]) else False for condition in args):\n",
        "            instances_restrictions.append((individual, individual.filename[0]))\n",
        "\n",
        "  return instances_restrictions"
      ],
      "metadata": {
        "id": "cla-NAMqz-on"
      },
      "execution_count": 82,
      "outputs": []
    },
    {
      "cell_type": "markdown",
      "source": [
        "## Which road signs are relevant to pedestrians?\n"
      ],
      "metadata": {
        "id": "pHwaXb663KKZ"
      }
    },
    {
      "cell_type": "code",
      "source": [
        "RoadSigns_pedestrians = RoadSign_conditions_property(\"PEDESTRIAN\", object_property = \"symbol\")\n",
        "print(f\"The RoadSings with the a pedestrian symbol are:\")\n",
        "for image in RoadSigns_pedestrians:\n",
        "  print(image[0])\n",
        "  display(Image(url=image[1]))"
      ],
      "metadata": {
        "colab": {
          "base_uri": "https://localhost:8080/",
          "height": 1000
        },
        "id": "vHorfqmXegPa",
        "outputId": "b964705f-255b-486f-bff8-6c68369f5f46"
      },
      "execution_count": 83,
      "outputs": [
        {
          "output_type": "stream",
          "name": "stdout",
          "text": [
            "The RoadSings with the a pedestrian symbol are:\n",
            "DefinitivaPopulada.roadsign14\n"
          ]
        },
        {
          "output_type": "display_data",
          "data": {
            "text/html": [
              "<img src=\"http://www.iiia.csic.es/~marco/kr/images/IMG_20230202_152104.jpg\"/>"
            ],
            "text/plain": [
              "<IPython.core.display.Image object>"
            ]
          },
          "metadata": {}
        },
        {
          "output_type": "stream",
          "name": "stdout",
          "text": [
            "DefinitivaPopulada.roadsign17\n"
          ]
        },
        {
          "output_type": "display_data",
          "data": {
            "text/html": [
              "<img src=\"http://www.iiia.csic.es/~marco/kr/images/IMG_20230202_153449.jpg\"/>"
            ],
            "text/plain": [
              "<IPython.core.display.Image object>"
            ]
          },
          "metadata": {}
        },
        {
          "output_type": "stream",
          "name": "stdout",
          "text": [
            "DefinitivaPopulada.roadsign23\n"
          ]
        },
        {
          "output_type": "display_data",
          "data": {
            "text/html": [
              "<img src=\"http://www.iiia.csic.es/~marco/kr/images/IMG_20230202_154451.jpg\"/>"
            ],
            "text/plain": [
              "<IPython.core.display.Image object>"
            ]
          },
          "metadata": {}
        },
        {
          "output_type": "stream",
          "name": "stdout",
          "text": [
            "DefinitivaPopulada.roadsign26\n"
          ]
        },
        {
          "output_type": "display_data",
          "data": {
            "text/html": [
              "<img src=\"http://www.iiia.csic.es/~marco/kr/images/IMG_20230202_153534.jpg\"/>"
            ],
            "text/plain": [
              "<IPython.core.display.Image object>"
            ]
          },
          "metadata": {}
        },
        {
          "output_type": "stream",
          "name": "stdout",
          "text": [
            "DefinitivaPopulada.roadsign28\n"
          ]
        },
        {
          "output_type": "display_data",
          "data": {
            "text/html": [
              "<img src=\"http://www.iiia.csic.es/~marco/kr/images/IMG_20230314_150834.jpg\"/>"
            ],
            "text/plain": [
              "<IPython.core.display.Image object>"
            ]
          },
          "metadata": {}
        },
        {
          "output_type": "stream",
          "name": "stdout",
          "text": [
            "DefinitivaPopulada.roadsign44\n"
          ]
        },
        {
          "output_type": "display_data",
          "data": {
            "text/html": [
              "<img src=\"http://www.iiia.csic.es/~marco/kr/images/IMG_20230202_154517.jpg\"/>"
            ],
            "text/plain": [
              "<IPython.core.display.Image object>"
            ]
          },
          "metadata": {}
        },
        {
          "output_type": "stream",
          "name": "stdout",
          "text": [
            "DefinitivaPopulada.roadsign48\n"
          ]
        },
        {
          "output_type": "display_data",
          "data": {
            "text/html": [
              "<img src=\"http://www.iiia.csic.es/~marco/kr/images/IMG_20230202_153657.jpg\"/>"
            ],
            "text/plain": [
              "<IPython.core.display.Image object>"
            ]
          },
          "metadata": {}
        },
        {
          "output_type": "stream",
          "name": "stdout",
          "text": [
            "DefinitivaPopulada.roadsign8\n"
          ]
        },
        {
          "output_type": "display_data",
          "data": {
            "text/html": [
              "<img src=\"http://www.iiia.csic.es/~marco/kr/images/IMG_20230202_152049.jpg\"/>"
            ],
            "text/plain": [
              "<IPython.core.display.Image object>"
            ]
          },
          "metadata": {}
        }
      ]
    },
    {
      "cell_type": "markdown",
      "source": [
        "## Which road signs are depicted in image IMG_20230202_154357.jpg?"
      ],
      "metadata": {
        "id": "HzYAK7ri3TTO"
      }
    },
    {
      "cell_type": "code",
      "source": [
        "def return_type(RoadSign):\n",
        "  list_ = []\n",
        "  for class_ in onto.classes():\n",
        "    if str(class_) == 'Population_Session8.RoadSign':\n",
        "      continue\n",
        "    if isinstance(RoadSign, class_):\n",
        "      list_.append(str(class_).replace(file_name + '.', \"\"))\n",
        "  return list_"
      ],
      "metadata": {
        "id": "pJPOZlBDfeQH"
      },
      "execution_count": 84,
      "outputs": []
    },
    {
      "cell_type": "code",
      "source": [
        "RoadSigns = RoadSign_conditions_property(\"IMG_20230202_154357.jpg\", object_property = \"filename\")\n",
        "print(f\"There are {len(RoadSigns)} RoadSign in the image:\\n\")\n",
        "display(Image(url=RoadSigns[0][1]))\n",
        "for roadsign in RoadSigns:\n",
        "  print(f\"The roadSign {roadsign[0]} is of the classe\\n{return_type(roadsign[0])}\\n\")"
      ],
      "metadata": {
        "colab": {
          "base_uri": "https://localhost:8080/",
          "height": 852
        },
        "id": "_PplfGMKLw7W",
        "outputId": "78716dee-a1cd-41ad-b2a4-1bd56057fb87"
      },
      "execution_count": 85,
      "outputs": [
        {
          "output_type": "stream",
          "name": "stdout",
          "text": [
            "There are 3 RoadSign in the image:\n",
            "\n"
          ]
        },
        {
          "output_type": "display_data",
          "data": {
            "text/html": [
              "<img src=\"http://www.iiia.csic.es/~marco/kr/images/IMG_20230202_154357.jpg\"/>"
            ],
            "text/plain": [
              "<IPython.core.display.Image object>"
            ]
          },
          "metadata": {}
        },
        {
          "output_type": "stream",
          "name": "stdout",
          "text": [
            "The roadSign DefinitivaPopulada.roadsign43 is of the classe\n",
            "['DefinitivaPopulada.RoadSign', 'DefinitivaPopulada.DangerWarningSign', 'DefinitivaPopulada.Care_Danger']\n",
            "\n",
            "The roadSign DefinitivaPopulada.roadsign46 is of the classe\n",
            "['DefinitivaPopulada.RoadSign', 'DefinitivaPopulada.DangerWarningSign', 'DefinitivaPopulada.Care_UnevenRoad']\n",
            "\n",
            "The roadSign DefinitivaPopulada.roadsign54 is of the classe\n",
            "['DefinitivaPopulada.RoadSign', 'DefinitivaPopulada.InformativeSign', 'DefinitivaPopulada.InformationSign', 'DefinitivaPopulada.SortidaBombers']\n",
            "\n"
          ]
        }
      ]
    },
    {
      "cell_type": "markdown",
      "source": [
        "## Are there instances of a ‘compulsory minimum speed’ sign?"
      ],
      "metadata": {
        "id": "ElYZ8kMhMA5f"
      }
    },
    {
      "cell_type": "code",
      "source": [
        "Type_RoadSign = \"MinimumSpeedSigns\"\n",
        "shapes, RoadSigns_shapes = RoadSign_Types_Shapes(Type_RoadSign)\n",
        "if len(shapes) > 0:\n",
        "  print(f\"Yes there is a RoadSign of type {Type_RoadSign}.\\nSome Priority signs are:\")\n",
        "  for image in RoadSigns_shapes:\n",
        "    print(image)\n",
        "else:\n",
        "  print(f\"No there is not a RoadSign of type {Type_RoadSign}\")"
      ],
      "metadata": {
        "colab": {
          "base_uri": "https://localhost:8080/"
        },
        "id": "3BCwGc3hcqnT",
        "outputId": "91e90a2a-0a0b-4235-db90-8cad898c000b"
      },
      "execution_count": 86,
      "outputs": [
        {
          "output_type": "stream",
          "name": "stdout",
          "text": [
            "No there is not a RoadSign of type MinimumSpeedSigns\n"
          ]
        }
      ]
    },
    {
      "cell_type": "markdown",
      "source": [
        "## What percentage of road signs depicted in the image repository are prohibitory signs?"
      ],
      "metadata": {
        "id": "LNbIXqwM3YkZ"
      }
    },
    {
      "cell_type": "code",
      "source": [
        "rs = [x for x in onto.individuals() if isinstance(x,onto.RoadSign)]\n",
        "ps = [x for x in onto.individuals() if isinstance(x,onto.ProhibitorySign)]\n",
        "print(round(len(ps)/len(rs)*100,2),\"%\")"
      ],
      "metadata": {
        "colab": {
          "base_uri": "https://localhost:8080/"
        },
        "id": "-gyGSfrkr6hZ",
        "outputId": "30488ea7-9088-49b8-c9de-e346ff2a040b"
      },
      "execution_count": 87,
      "outputs": [
        {
          "output_type": "stream",
          "name": "stdout",
          "text": [
            "25.42 %\n"
          ]
        }
      ]
    },
    {
      "cell_type": "markdown",
      "source": [
        "## Is there any road sign in the image repository that informs about a restriction applicable to lorries or other large vehicles?"
      ],
      "metadata": {
        "id": "cUHKDjtM3dpu"
      }
    },
    {
      "cell_type": "code",
      "source": [
        "Large_vehicles_restrictions = RoadSign_conditions_property(\"HEIGHT\", \"MASS\", object_property = \"symbol\")\n",
        "print(f\"The RoadSings with restrictions to lorries or large vehicles are:\")\n",
        "for image in Large_vehicles_restrictions:\n",
        "  print(image[0])\n",
        "  display(Image(url=image[1]))"
      ],
      "metadata": {
        "colab": {
          "base_uri": "https://localhost:8080/",
          "height": 1000
        },
        "id": "HLFeIGwzpj_a",
        "outputId": "49d2bffd-1e6f-4d9a-ba82-974127bd9da2"
      },
      "execution_count": 88,
      "outputs": [
        {
          "output_type": "stream",
          "name": "stdout",
          "text": [
            "The RoadSings with restrictions to lorries or large vehicles are:\n",
            "DefinitivaPopulada.roadsign11\n"
          ]
        },
        {
          "output_type": "display_data",
          "data": {
            "text/html": [
              "<img src=\"http://www.iiia.csic.es/~marco/kr/images/IMG_20230314_152004.jpg\"/>"
            ],
            "text/plain": [
              "<IPython.core.display.Image object>"
            ]
          },
          "metadata": {}
        },
        {
          "output_type": "stream",
          "name": "stdout",
          "text": [
            "DefinitivaPopulada.roadsign2\n"
          ]
        },
        {
          "output_type": "display_data",
          "data": {
            "text/html": [
              "<img src=\"http://www.iiia.csic.es/~marco/kr/images/IMG_20230314_145957.jpg\"/>"
            ],
            "text/plain": [
              "<IPython.core.display.Image object>"
            ]
          },
          "metadata": {}
        },
        {
          "output_type": "stream",
          "name": "stdout",
          "text": [
            "DefinitivaPopulada.roadsign22\n"
          ]
        },
        {
          "output_type": "display_data",
          "data": {
            "text/html": [
              "<img src=\"http://www.iiia.csic.es/~marco/kr/images/IMG_20230314_153047.jpg\"/>"
            ],
            "text/plain": [
              "<IPython.core.display.Image object>"
            ]
          },
          "metadata": {}
        },
        {
          "output_type": "stream",
          "name": "stdout",
          "text": [
            "DefinitivaPopulada.roadsign25\n"
          ]
        },
        {
          "output_type": "display_data",
          "data": {
            "text/html": [
              "<img src=\"http://www.iiia.csic.es/~marco/kr/images/IMG_20230314_184317.jpg\"/>"
            ],
            "text/plain": [
              "<IPython.core.display.Image object>"
            ]
          },
          "metadata": {}
        },
        {
          "output_type": "stream",
          "name": "stdout",
          "text": [
            "DefinitivaPopulada.roadsign41\n"
          ]
        },
        {
          "output_type": "display_data",
          "data": {
            "text/html": [
              "<img src=\"http://www.iiia.csic.es/~marco/kr/images/IMG_20230202_154252.jpg\"/>"
            ],
            "text/plain": [
              "<IPython.core.display.Image object>"
            ]
          },
          "metadata": {}
        },
        {
          "output_type": "stream",
          "name": "stdout",
          "text": [
            "DefinitivaPopulada.roadsign59\n"
          ]
        },
        {
          "output_type": "display_data",
          "data": {
            "text/html": [
              "<img src=\"http://www.iiia.csic.es/~marco/kr/images/IMG_20230314_153931.jpg\"/>"
            ],
            "text/plain": [
              "<IPython.core.display.Image object>"
            ]
          },
          "metadata": {}
        }
      ]
    },
    {
      "cell_type": "markdown",
      "source": [
        "• Is there any priority road sign in the image repository? \n"
      ],
      "metadata": {
        "id": "szrDvNPU3onM"
      }
    },
    {
      "cell_type": "code",
      "source": [
        "Type_RoadSign = \"PrioritySign\"\n",
        "shapes, RoadSigns_shapes = RoadSign_Types_Shapes(Type_RoadSign)\n",
        "if len(shapes) > 0:\n",
        "  print(f\"Yes there is a RoadSign of type {Type_RoadSign}.\\nSome Priority signs are:\")\n",
        "  for image in RoadSigns_shapes:\n",
        "    display(Image(url=image))\n",
        "else:\n",
        "  print(f\"No there is not a RoadSign of type {Type_RoadSign}\")"
      ],
      "metadata": {
        "colab": {
          "base_uri": "https://localhost:8080/",
          "height": 1000
        },
        "id": "3efea89vybg4",
        "outputId": "6771d3e4-fa99-4d57-8dd6-40beb82d08c9"
      },
      "execution_count": 89,
      "outputs": [
        {
          "output_type": "stream",
          "name": "stdout",
          "text": [
            "Yes there is a RoadSign of type PrioritySign.\n",
            "Some Priority signs are:\n"
          ]
        },
        {
          "output_type": "display_data",
          "data": {
            "text/html": [
              "<img src=\"http://www.iiia.csic.es/~marco/kr/images/IMG_20230202_154544.jpg\"/>"
            ],
            "text/plain": [
              "<IPython.core.display.Image object>"
            ]
          },
          "metadata": {}
        },
        {
          "output_type": "display_data",
          "data": {
            "text/html": [
              "<img src=\"http://www.iiia.csic.es/~marco/kr/images/IMG_20230202_154211.jpg\"/>"
            ],
            "text/plain": [
              "<IPython.core.display.Image object>"
            ]
          },
          "metadata": {}
        },
        {
          "output_type": "display_data",
          "data": {
            "text/html": [
              "<img src=\"http://www.iiia.csic.es/~marco/kr/images/IMG_20230314_153901.jpg\"/>"
            ],
            "text/plain": [
              "<IPython.core.display.Image object>"
            ]
          },
          "metadata": {}
        },
        {
          "output_type": "display_data",
          "data": {
            "text/html": [
              "<img src=\"http://www.iiia.csic.es/~marco/kr/images/IMG_20230314_150918.jpg\"/>"
            ],
            "text/plain": [
              "<IPython.core.display.Image object>"
            ]
          },
          "metadata": {}
        },
        {
          "output_type": "display_data",
          "data": {
            "text/html": [
              "<img src=\"http://www.iiia.csic.es/~marco/kr/images/IMG_20230314_150013.jpg\"/>"
            ],
            "text/plain": [
              "<IPython.core.display.Image object>"
            ]
          },
          "metadata": {}
        },
        {
          "output_type": "display_data",
          "data": {
            "text/html": [
              "<img src=\"http://www.iiia.csic.es/~marco/kr/images/IMG_20230202_154744.jpg\"/>"
            ],
            "text/plain": [
              "<IPython.core.display.Image object>"
            ]
          },
          "metadata": {}
        },
        {
          "output_type": "display_data",
          "data": {
            "text/html": [
              "<img src=\"http://www.iiia.csic.es/~marco/kr/images/IMG_20230202_153131.jpg\"/>"
            ],
            "text/plain": [
              "<IPython.core.display.Image object>"
            ]
          },
          "metadata": {}
        }
      ]
    },
    {
      "cell_type": "markdown",
      "source": [
        "## Which border colour do circle-shaped road signs have?"
      ],
      "metadata": {
        "id": "7FN4eiaa_I_w"
      }
    },
    {
      "cell_type": "code",
      "source": [
        "#Function that looks for a specific shape and returns the different colors.\n",
        "def RoadSign_given_symbol(*args):\n",
        "  RoadSigns_shape = []\n",
        "  colors = set()\n",
        "  for individual in onto.individuals():\n",
        "      # Check if the individual represents\n",
        "      if isinstance(individual, onto.RoadSign):\n",
        "        if any(True if condition in str(individual.shape) else False for condition in args):\n",
        "          if len(individual.borderColor) > 0 and individual.borderColor[0] is not None:\n",
        "            RoadSigns_shape.append(individual.filename[0])\n",
        "            colors.add(str(individual.borderColor[0]).replace(file_name + '.', \"\"))  \n",
        "  return RoadSigns_shape, colors"
      ],
      "metadata": {
        "id": "67HI0aKT_M95"
      },
      "execution_count": 90,
      "outputs": []
    },
    {
      "cell_type": "code",
      "source": [
        "RoadSigns_shape, colors = RoadSign_given_symbol(\"CIRCLE\")\n",
        "print(f\"Circle shaped road signs:\")\n",
        "for image in RoadSigns_shape:\n",
        "  display(Image(url=image))\n",
        "print(\"\\nColors of Circle shaped road signs:\", colors)"
      ],
      "metadata": {
        "colab": {
          "base_uri": "https://localhost:8080/",
          "height": 1000
        },
        "id": "ulf8uQ7oOHjB",
        "outputId": "df3ccd85-aeec-4301-b52e-aa3c99bd9525"
      },
      "execution_count": 91,
      "outputs": [
        {
          "output_type": "stream",
          "name": "stdout",
          "text": [
            "Circle shaped road signs:\n"
          ]
        },
        {
          "output_type": "display_data",
          "data": {
            "text/html": [
              "<img src=\"http://www.iiia.csic.es/~marco/kr/images/IMG_20230314_184053.jpg\"/>"
            ],
            "text/plain": [
              "<IPython.core.display.Image object>"
            ]
          },
          "metadata": {}
        },
        {
          "output_type": "display_data",
          "data": {
            "text/html": [
              "<img src=\"http://www.iiia.csic.es/~marco/kr/images/IMG_20230314_152004.jpg\"/>"
            ],
            "text/plain": [
              "<IPython.core.display.Image object>"
            ]
          },
          "metadata": {}
        },
        {
          "output_type": "display_data",
          "data": {
            "text/html": [
              "<img src=\"http://www.iiia.csic.es/~marco/kr/images/IMG_20230314_152004.jpg\"/>"
            ],
            "text/plain": [
              "<IPython.core.display.Image object>"
            ]
          },
          "metadata": {}
        },
        {
          "output_type": "display_data",
          "data": {
            "text/html": [
              "<img src=\"http://www.iiia.csic.es/~marco/kr/images/IMG_20230202_154627.jpg\"/>"
            ],
            "text/plain": [
              "<IPython.core.display.Image object>"
            ]
          },
          "metadata": {}
        },
        {
          "output_type": "display_data",
          "data": {
            "text/html": [
              "<img src=\"http://www.iiia.csic.es/~marco/kr/images/IMG_20230314_145957.jpg\"/>"
            ],
            "text/plain": [
              "<IPython.core.display.Image object>"
            ]
          },
          "metadata": {}
        },
        {
          "output_type": "display_data",
          "data": {
            "text/html": [
              "<img src=\"http://www.iiia.csic.es/~marco/kr/images/IMG_20230202_154544.jpg\"/>"
            ],
            "text/plain": [
              "<IPython.core.display.Image object>"
            ]
          },
          "metadata": {}
        },
        {
          "output_type": "display_data",
          "data": {
            "text/html": [
              "<img src=\"http://www.iiia.csic.es/~marco/kr/images/IMG_20230314_153047.jpg\"/>"
            ],
            "text/plain": [
              "<IPython.core.display.Image object>"
            ]
          },
          "metadata": {}
        },
        {
          "output_type": "display_data",
          "data": {
            "text/html": [
              "<img src=\"http://www.iiia.csic.es/~marco/kr/images/IMG_20230314_184317.jpg\"/>"
            ],
            "text/plain": [
              "<IPython.core.display.Image object>"
            ]
          },
          "metadata": {}
        },
        {
          "output_type": "display_data",
          "data": {
            "text/html": [
              "<img src=\"http://www.iiia.csic.es/~marco/kr/images/IMG_20230202_154226.jpg\"/>"
            ],
            "text/plain": [
              "<IPython.core.display.Image object>"
            ]
          },
          "metadata": {}
        },
        {
          "output_type": "display_data",
          "data": {
            "text/html": [
              "<img src=\"http://www.iiia.csic.es/~marco/kr/images/IMG_20230202_153449.jpg\"/>"
            ],
            "text/plain": [
              "<IPython.core.display.Image object>"
            ]
          },
          "metadata": {}
        },
        {
          "output_type": "display_data",
          "data": {
            "text/html": [
              "<img src=\"http://www.iiia.csic.es/~marco/kr/images/IMG_20230314_150134.jpg\"/>"
            ],
            "text/plain": [
              "<IPython.core.display.Image object>"
            ]
          },
          "metadata": {}
        },
        {
          "output_type": "display_data",
          "data": {
            "text/html": [
              "<img src=\"http://www.iiia.csic.es/~marco/kr/images/IMG_20230314_184212.jpg\"/>"
            ],
            "text/plain": [
              "<IPython.core.display.Image object>"
            ]
          },
          "metadata": {}
        },
        {
          "output_type": "display_data",
          "data": {
            "text/html": [
              "<img src=\"http://www.iiia.csic.es/~marco/kr/images/IMG_20230202_151915.jpg\"/>"
            ],
            "text/plain": [
              "<IPython.core.display.Image object>"
            ]
          },
          "metadata": {}
        },
        {
          "output_type": "display_data",
          "data": {
            "text/html": [
              "<img src=\"http://www.iiia.csic.es/~marco/kr/images/IMG_20230202_153829.jpg\"/>"
            ],
            "text/plain": [
              "<IPython.core.display.Image object>"
            ]
          },
          "metadata": {}
        },
        {
          "output_type": "display_data",
          "data": {
            "text/html": [
              "<img src=\"http://www.iiia.csic.es/~marco/kr/images/IMG_20230202_153121.jpg\"/>"
            ],
            "text/plain": [
              "<IPython.core.display.Image object>"
            ]
          },
          "metadata": {}
        },
        {
          "output_type": "display_data",
          "data": {
            "text/html": [
              "<img src=\"http://www.iiia.csic.es/~marco/kr/images/IMG_20230202_154252.jpg\"/>"
            ],
            "text/plain": [
              "<IPython.core.display.Image object>"
            ]
          },
          "metadata": {}
        },
        {
          "output_type": "display_data",
          "data": {
            "text/html": [
              "<img src=\"http://www.iiia.csic.es/~marco/kr/images/IMG_20230202_152836.jpg\"/>"
            ],
            "text/plain": [
              "<IPython.core.display.Image object>"
            ]
          },
          "metadata": {}
        },
        {
          "output_type": "display_data",
          "data": {
            "text/html": [
              "<img src=\"http://www.iiia.csic.es/~marco/kr/images/IMG_20230314_153602.jpg\"/>"
            ],
            "text/plain": [
              "<IPython.core.display.Image object>"
            ]
          },
          "metadata": {}
        },
        {
          "output_type": "display_data",
          "data": {
            "text/html": [
              "<img src=\"http://www.iiia.csic.es/~marco/kr/images/IMG_20230314_153931.jpg\"/>"
            ],
            "text/plain": [
              "<IPython.core.display.Image object>"
            ]
          },
          "metadata": {}
        },
        {
          "output_type": "display_data",
          "data": {
            "text/html": [
              "<img src=\"http://www.iiia.csic.es/~marco/kr/images/IMG_20230314_151100.jpg\"/>"
            ],
            "text/plain": [
              "<IPython.core.display.Image object>"
            ]
          },
          "metadata": {}
        },
        {
          "output_type": "stream",
          "name": "stdout",
          "text": [
            "\n",
            "Colors of Circle shaped road signs: {'DefinitivaPopulada.WHITE', 'DefinitivaPopulada.RED'}\n"
          ]
        }
      ]
    },
    {
      "cell_type": "markdown",
      "source": [
        "## Which images contain ‘stop’ signs?"
      ],
      "metadata": {
        "id": "HxPZdpxbEArm"
      }
    },
    {
      "cell_type": "code",
      "source": [
        "shapes, images = RoadSign_Types_Shapes(\"StopSign\")\n",
        "for img in images:\n",
        "  display(Image(url=img))"
      ],
      "metadata": {
        "colab": {
          "base_uri": "https://localhost:8080/",
          "height": 1000
        },
        "id": "6Z5k1RJgQCxE",
        "outputId": "bbb67bf3-749f-4f0b-e41b-87f59797dc4b"
      },
      "execution_count": 92,
      "outputs": [
        {
          "output_type": "display_data",
          "data": {
            "text/html": [
              "<img src=\"http://www.iiia.csic.es/~marco/kr/images/IMG_20230202_154544.jpg\"/>"
            ],
            "text/plain": [
              "<IPython.core.display.Image object>"
            ]
          },
          "metadata": {}
        },
        {
          "output_type": "display_data",
          "data": {
            "text/html": [
              "<img src=\"http://www.iiia.csic.es/~marco/kr/images/IMG_20230314_153901.jpg\"/>"
            ],
            "text/plain": [
              "<IPython.core.display.Image object>"
            ]
          },
          "metadata": {}
        },
        {
          "output_type": "display_data",
          "data": {
            "text/html": [
              "<img src=\"http://www.iiia.csic.es/~marco/kr/images/IMG_20230314_150918.jpg\"/>"
            ],
            "text/plain": [
              "<IPython.core.display.Image object>"
            ]
          },
          "metadata": {}
        }
      ]
    },
    {
      "cell_type": "markdown",
      "source": [
        "## Is there an image depicting both, a danger warning sign and a prohibitory sign?"
      ],
      "metadata": {
        "id": "wOikdz-FEy12"
      }
    },
    {
      "cell_type": "code",
      "source": [
        "Type_RoadSign = \"DangerWarningSign\"\n",
        "shapes, RoadSigns_shapes_Danger      = RoadSign_Types_Shapes(Type_RoadSign)\n",
        "\n",
        "Type_RoadSign = \"ProhibitorySign\"\n",
        "shapes, RoadSigns_shapes_Prohibitory = RoadSign_Types_Shapes(Type_RoadSign)"
      ],
      "metadata": {
        "id": "RZlY-f9aa_1o"
      },
      "execution_count": 93,
      "outputs": []
    },
    {
      "cell_type": "code",
      "source": [
        "print(\"Yes, the images are:\")\n",
        "for image in set(RoadSigns_shapes_Danger).intersection(set(RoadSigns_shapes_Prohibitory)):\n",
        "  display(Image(url=image))"
      ],
      "metadata": {
        "id": "0anRVzkmbdPj",
        "colab": {
          "base_uri": "https://localhost:8080/",
          "height": 1000
        },
        "outputId": "f86f1a8d-27b0-40b5-d779-34f65202c136"
      },
      "execution_count": 94,
      "outputs": [
        {
          "output_type": "stream",
          "name": "stdout",
          "text": [
            "Yes, the images are:\n"
          ]
        },
        {
          "output_type": "display_data",
          "data": {
            "text/html": [
              "<img src=\"http://www.iiia.csic.es/~marco/kr/images/IMG_20230314_150134.jpg\"/>"
            ],
            "text/plain": [
              "<IPython.core.display.Image object>"
            ]
          },
          "metadata": {}
        },
        {
          "output_type": "display_data",
          "data": {
            "text/html": [
              "<img src=\"http://www.iiia.csic.es/~marco/kr/images/IMG_20230202_153449.jpg\"/>"
            ],
            "text/plain": [
              "<IPython.core.display.Image object>"
            ]
          },
          "metadata": {}
        },
        {
          "output_type": "display_data",
          "data": {
            "text/html": [
              "<img src=\"http://www.iiia.csic.es/~marco/kr/images/IMG_20230314_184317.jpg\"/>"
            ],
            "text/plain": [
              "<IPython.core.display.Image object>"
            ]
          },
          "metadata": {}
        },
        {
          "output_type": "display_data",
          "data": {
            "text/html": [
              "<img src=\"http://www.iiia.csic.es/~marco/kr/images/IMG_20230314_151100.jpg\"/>"
            ],
            "text/plain": [
              "<IPython.core.display.Image object>"
            ]
          },
          "metadata": {}
        },
        {
          "output_type": "display_data",
          "data": {
            "text/html": [
              "<img src=\"http://www.iiia.csic.es/~marco/kr/images/IMG_20230202_153829.jpg\"/>"
            ],
            "text/plain": [
              "<IPython.core.display.Image object>"
            ]
          },
          "metadata": {}
        }
      ]
    },
    {
      "cell_type": "markdown",
      "source": [
        "## Which is the maximum speed shown on most speed limit signs?"
      ],
      "metadata": {
        "id": "k5xaG4IwK-VS"
      }
    },
    {
      "cell_type": "code",
      "source": [
        "speed_limits = []\n",
        "for image in RoadSign_conditions_property(\"SPEED\", object_property = \"symbol\"):\n",
        "  speed_limits.append(int(image[0].symbolValue[0]))\n",
        "\n",
        "max_speed_limit = max(speed_limits)\n",
        "print(f\"The maximum speed shown on most speed limit signs is: {max_speed_limit}\")"
      ],
      "metadata": {
        "colab": {
          "base_uri": "https://localhost:8080/"
        },
        "id": "aqLmXVJwjIRU",
        "outputId": "b40024a3-e27c-49c5-e8a1-c6831ad285f9"
      },
      "execution_count": 95,
      "outputs": [
        {
          "output_type": "stream",
          "name": "stdout",
          "text": [
            "The maximum speed shown on most speed limit signs is: 30\n"
          ]
        }
      ]
    },
    {
      "cell_type": "markdown",
      "source": [
        "## How Many 'CycleTrack' roadsign instances are there?\n",
        "\n"
      ],
      "metadata": {
        "id": "Y1wsjF9FvwQB"
      }
    },
    {
      "cell_type": "code",
      "source": [
        "Type_RoadSign = \"CycleTrack\"\n",
        "shapes, RoadSigns_shapes_Danger      = RoadSign_Types_Shapes(Type_RoadSign)\n",
        "print(f\"There are {len(RoadSigns_shapes_Danger)} CycleTrack roadsigns\")\n",
        "for image in RoadSigns_shapes_Danger:\n",
        "  display(Image(url=image))"
      ],
      "metadata": {
        "colab": {
          "base_uri": "https://localhost:8080/",
          "height": 1000
        },
        "id": "tqZ8oEo6vvZE",
        "outputId": "5332b5dc-aabd-423c-8fe3-d2e39a71b02e"
      },
      "execution_count": 96,
      "outputs": [
        {
          "output_type": "stream",
          "name": "stdout",
          "text": [
            "There are 2 CycleTrack roadsigns\n"
          ]
        },
        {
          "output_type": "display_data",
          "data": {
            "text/html": [
              "<img src=\"http://www.iiia.csic.es/~marco/kr/images/IMG_20230314_184053.jpg\"/>"
            ],
            "text/plain": [
              "<IPython.core.display.Image object>"
            ]
          },
          "metadata": {}
        },
        {
          "output_type": "display_data",
          "data": {
            "text/html": [
              "<img src=\"http://www.iiia.csic.es/~marco/kr/images/IMG_20230314_184212.jpg\"/>"
            ],
            "text/plain": [
              "<IPython.core.display.Image object>"
            ]
          },
          "metadata": {}
        }
      ]
    },
    {
      "cell_type": "code",
      "source": [
        "for class_ in onto.classes():\n",
        "  class_ = str(class_).replace(file_name + \".\",\"\")\n",
        "  RoadSign_given_symbol(class_)"
      ],
      "metadata": {
        "id": "R9lJUjgQwYo0"
      },
      "execution_count": 97,
      "outputs": []
    },
    {
      "cell_type": "markdown",
      "source": [
        "What is the most common shape for roadsigns in the dataset?"
      ],
      "metadata": {
        "id": "Dk4xal_sz2u2"
      }
    },
    {
      "cell_type": "code",
      "source": [
        "from collections import Counter\n",
        "\n",
        "def most_common_shape():\n",
        "  shapes = [str(individual.shape).replace(file_name + '.', \"\") for individual in onto.individuals() if isinstance(individual, onto.RoadSign)]\n",
        "  most_common_shape = Counter(shapes).most_common(1)[0][0]\n",
        "  return most_common_shape\n",
        "\n",
        "print(f\"The most common shape for road signs is: {most_common_shape()[19:]}\") # the [19:] is to avoid printing the filename before just before of most_common_shape\n"
      ],
      "metadata": {
        "colab": {
          "base_uri": "https://localhost:8080/"
        },
        "id": "XEVw-W_mz123",
        "outputId": "a935f508-253d-4523-fb81-465a7a751ea0"
      },
      "execution_count": 98,
      "outputs": [
        {
          "output_type": "stream",
          "name": "stdout",
          "text": [
            "The most common shape for road signs is: CIRCLE\n"
          ]
        }
      ]
    },
    {
      "cell_type": "markdown",
      "source": [
        "## Whats the color scheme of CycleTrack roadsings?"
      ],
      "metadata": {
        "id": "b4wt_vsPxx4K"
      }
    },
    {
      "cell_type": "code",
      "source": [
        "def RoadSign_Color_Scheme(RoadSign_Type): \n",
        "  RoadSign_Type = eval(\"onto.\" + RoadSign_Type)\n",
        "\n",
        "  color_schemes = set() \n",
        "  RoadSigns_Color_Schemes = []\n",
        "  \n",
        "  if RoadSign_Type in onto.classes(): \n",
        "    for individual in onto.individuals():\n",
        "      if isinstance(individual, RoadSign_Type): \n",
        "        color_scheme = (str(individual.borderColor[0]).replace(file_name + '.', \"\"), \n",
        "                        str(individual.groundColor).replace(file_name + '.', \"\"), \n",
        "                        str(individual.symbolColor[0]).replace(file_name + '.', \"\")) \n",
        "        color_schemes.add(color_scheme) \n",
        "        RoadSigns_Color_Schemes.append((individual.filename[0], color_scheme))\n",
        "        \n",
        "  return color_schemes, RoadSigns_Color_Schemes\n",
        "\n",
        "RoadSign_Type = \"CycleTrack\"\n",
        "color_schemes, RoadSigns_Color_Schemes = RoadSign_Color_Scheme(RoadSign_Type)\n",
        "\n",
        "color_schemes = list(color_schemes)\n",
        "print(f\"The color schemes of a {RoadSign_Type} are: border color: {color_schemes[0][0]}, ground color: {color_schemes[0][1]} and symbol color: {color_schemes[0][2]} and the instances containing these color schemes are:\")\n",
        "for image, color_scheme in RoadSigns_Color_Schemes:\n",
        "  print(f\"Image: {image}\\nColor Scheme: {color_scheme}\")\n",
        "  display(Image(url=image))"
      ],
      "metadata": {
        "colab": {
          "base_uri": "https://localhost:8080/",
          "height": 1000
        },
        "id": "LISMmOwcwupa",
        "outputId": "0a6d36e8-a045-42b9-bfb8-3ef9b0b6333e"
      },
      "execution_count": 99,
      "outputs": [
        {
          "output_type": "stream",
          "name": "stdout",
          "text": [
            "The color schemes of a CycleTrack are: border color: DefinitivaPopulada.WHITE, ground color: DefinitivaPopulada.BLUE and symbol color: DefinitivaPopulada.WHITE and the instances containing these color schemes are:\n",
            "Image: http://www.iiia.csic.es/~marco/kr/images/IMG_20230314_184053.jpg\n",
            "Color Scheme: ('DefinitivaPopulada.WHITE', 'DefinitivaPopulada.BLUE', 'DefinitivaPopulada.WHITE')\n"
          ]
        },
        {
          "output_type": "display_data",
          "data": {
            "text/html": [
              "<img src=\"http://www.iiia.csic.es/~marco/kr/images/IMG_20230314_184053.jpg\"/>"
            ],
            "text/plain": [
              "<IPython.core.display.Image object>"
            ]
          },
          "metadata": {}
        },
        {
          "output_type": "stream",
          "name": "stdout",
          "text": [
            "Image: http://www.iiia.csic.es/~marco/kr/images/IMG_20230314_184212.jpg\n",
            "Color Scheme: ('DefinitivaPopulada.WHITE', 'DefinitivaPopulada.BLUE', 'DefinitivaPopulada.WHITE')\n"
          ]
        },
        {
          "output_type": "display_data",
          "data": {
            "text/html": [
              "<img src=\"http://www.iiia.csic.es/~marco/kr/images/IMG_20230314_184212.jpg\"/>"
            ],
            "text/plain": [
              "<IPython.core.display.Image object>"
            ]
          },
          "metadata": {}
        }
      ]
    },
    {
      "cell_type": "markdown",
      "source": [
        "## Which road signs have a symbol color that is not black?"
      ],
      "metadata": {
        "id": "ePwjXk471qM0"
      }
    },
    {
      "cell_type": "code",
      "source": [
        "def roadSigns_with_non_black_symbols():\n",
        "  roadSigns = [individual for individual in onto.individuals() if isinstance(individual, onto.RoadSign) and len(individual.symbolColor) > 0 and 'BLACK' not in str(individual.symbolColor[0])]\n",
        "  return roadSigns\n",
        "\n",
        "roadSigns = roadSigns_with_non_black_symbols()\n",
        "print(f\"There are {len(roadSigns)} road signs that have a symbol color that is not black.\")\n",
        "for sign in roadSigns:\n",
        "    display(Image(url=sign.filename[0]))"
      ],
      "metadata": {
        "colab": {
          "base_uri": "https://localhost:8080/",
          "height": 1000
        },
        "id": "8IeLaz_W1pJm",
        "outputId": "f3cebaaa-0106-4ac5-f4b2-f7b6c47504fd"
      },
      "execution_count": 100,
      "outputs": [
        {
          "output_type": "stream",
          "name": "stdout",
          "text": [
            "There are 17 road signs that have a symbol color that is not black.\n"
          ]
        },
        {
          "output_type": "display_data",
          "data": {
            "text/html": [
              "<img src=\"http://www.iiia.csic.es/~marco/kr/images/IMG_20230314_184053.jpg\"/>"
            ],
            "text/plain": [
              "<IPython.core.display.Image object>"
            ]
          },
          "metadata": {}
        },
        {
          "output_type": "display_data",
          "data": {
            "text/html": [
              "<img src=\"http://www.iiia.csic.es/~marco/kr/images/IMG_20230314_152004.jpg\"/>"
            ],
            "text/plain": [
              "<IPython.core.display.Image object>"
            ]
          },
          "metadata": {}
        },
        {
          "output_type": "display_data",
          "data": {
            "text/html": [
              "<img src=\"http://www.iiia.csic.es/~marco/kr/images/IMG_20230202_154544.jpg\"/>"
            ],
            "text/plain": [
              "<IPython.core.display.Image object>"
            ]
          },
          "metadata": {}
        },
        {
          "output_type": "display_data",
          "data": {
            "text/html": [
              "<img src=\"http://www.iiia.csic.es/~marco/kr/images/IMG_20230202_154627.jpg\"/>"
            ],
            "text/plain": [
              "<IPython.core.display.Image object>"
            ]
          },
          "metadata": {}
        },
        {
          "output_type": "display_data",
          "data": {
            "text/html": [
              "<img src=\"http://www.iiia.csic.es/~marco/kr/images/IMG_20230202_154544.jpg\"/>"
            ],
            "text/plain": [
              "<IPython.core.display.Image object>"
            ]
          },
          "metadata": {}
        },
        {
          "output_type": "display_data",
          "data": {
            "text/html": [
              "<img src=\"http://www.iiia.csic.es/~marco/kr/images/IMG_20230202_154226.jpg\"/>"
            ],
            "text/plain": [
              "<IPython.core.display.Image object>"
            ]
          },
          "metadata": {}
        },
        {
          "output_type": "display_data",
          "data": {
            "text/html": [
              "<img src=\"http://www.iiia.csic.es/~marco/kr/images/IMG_20230202_152933.jpg\"/>"
            ],
            "text/plain": [
              "<IPython.core.display.Image object>"
            ]
          },
          "metadata": {}
        },
        {
          "output_type": "display_data",
          "data": {
            "text/html": [
              "<img src=\"http://www.iiia.csic.es/~marco/kr/images/IMG_20230314_153901.jpg\"/>"
            ],
            "text/plain": [
              "<IPython.core.display.Image object>"
            ]
          },
          "metadata": {}
        },
        {
          "output_type": "display_data",
          "data": {
            "text/html": [
              "<img src=\"http://www.iiia.csic.es/~marco/kr/images/IMG_20230314_184212.jpg\"/>"
            ],
            "text/plain": [
              "<IPython.core.display.Image object>"
            ]
          },
          "metadata": {}
        },
        {
          "output_type": "display_data",
          "data": {
            "text/html": [
              "<img src=\"http://www.iiia.csic.es/~marco/kr/images/IMG_20230314_150918.jpg\"/>"
            ],
            "text/plain": [
              "<IPython.core.display.Image object>"
            ]
          },
          "metadata": {}
        },
        {
          "output_type": "display_data",
          "data": {
            "text/html": [
              "<img src=\"http://www.iiia.csic.es/~marco/kr/images/IMG_20230202_151915.jpg\"/>"
            ],
            "text/plain": [
              "<IPython.core.display.Image object>"
            ]
          },
          "metadata": {}
        },
        {
          "output_type": "display_data",
          "data": {
            "text/html": [
              "<img src=\"http://www.iiia.csic.es/~marco/kr/images/IMG_20230202_153121.jpg\"/>"
            ],
            "text/plain": [
              "<IPython.core.display.Image object>"
            ]
          },
          "metadata": {}
        },
        {
          "output_type": "display_data",
          "data": {
            "text/html": [
              "<img src=\"http://www.iiia.csic.es/~marco/kr/images/IMG_20230202_153657.jpg\"/>"
            ],
            "text/plain": [
              "<IPython.core.display.Image object>"
            ]
          },
          "metadata": {}
        },
        {
          "output_type": "display_data",
          "data": {
            "text/html": [
              "<img src=\"http://www.iiia.csic.es/~marco/kr/images/IMG_20230202_153238.jpg\"/>"
            ],
            "text/plain": [
              "<IPython.core.display.Image object>"
            ]
          },
          "metadata": {}
        },
        {
          "output_type": "display_data",
          "data": {
            "text/html": [
              "<img src=\"http://www.iiia.csic.es/~marco/kr/images/IMG_20230202_154708.jpg\"/>"
            ],
            "text/plain": [
              "<IPython.core.display.Image object>"
            ]
          },
          "metadata": {}
        },
        {
          "output_type": "display_data",
          "data": {
            "text/html": [
              "<img src=\"http://www.iiia.csic.es/~marco/kr/images/IMG_20230202_151932.jpg\"/>"
            ],
            "text/plain": [
              "<IPython.core.display.Image object>"
            ]
          },
          "metadata": {}
        },
        {
          "output_type": "display_data",
          "data": {
            "text/html": [
              "<img src=\"http://www.iiia.csic.es/~marco/kr/images/IMG_20230202_151646.jpg\"/>"
            ],
            "text/plain": [
              "<IPython.core.display.Image object>"
            ]
          },
          "metadata": {}
        }
      ]
    },
    {
      "cell_type": "markdown",
      "source": [
        "## Which road signs in the database have the maximum number of different colors?"
      ],
      "metadata": {
        "id": "j3pALXc_2XoT"
      }
    },
    {
      "cell_type": "code",
      "source": [
        "def roadSigns_with_max_colors():\n",
        "    max_colors = 0\n",
        "    max_color_signs = []\n",
        "    for individual in onto.individuals():\n",
        "        if isinstance(individual, onto.RoadSign):\n",
        "            colors = set()\n",
        "            if individual.borderColor:\n",
        "                colors.add(str(individual.borderColor).replace(file_name + '.', \"\"))\n",
        "            if individual.groundColor:\n",
        "                colors.add(str(individual.groundColor).replace(file_name + '.', \"\"))\n",
        "            if individual.symbolColor:\n",
        "                colors.add(str(individual.symbolColor).replace(file_name + '.', \"\"))\n",
        "\n",
        "            if len(colors) > max_colors:\n",
        "                max_colors = len(colors)\n",
        "                max_color_signs = [individual]\n",
        "            elif len(colors) == max_colors:\n",
        "                max_color_signs.append(individual)\n",
        "    return max_colors, max_color_signs\n",
        "\n",
        "max_colors, max_color_signs = roadSigns_with_max_colors()\n",
        "print(f'There are {len(max_color_signs)} images where signs with the maximum number of different colors ({max_colors}) appear')\n",
        "print(f\"Road signs with the maximum number of different colors ({max_colors}) are:\")\n",
        "for sign in max_color_signs:\n",
        "    display(Image(url=sign.filename[0]))#Take into account that we print some images that have more than one roadsign in it, so the roadsign we are refering to is the one with 3 colors\n"
      ],
      "metadata": {
        "colab": {
          "base_uri": "https://localhost:8080/",
          "height": 1000
        },
        "id": "ReB7SMTb1xhV",
        "outputId": "effc8c64-3077-4a02-fd08-1911d9600762"
      },
      "execution_count": 101,
      "outputs": [
        {
          "output_type": "stream",
          "name": "stdout",
          "text": [
            "There are 32 images where signs with the maximum number of different colors (3) appear\n",
            "Road signs with the maximum number of different colors (3) are:\n"
          ]
        },
        {
          "output_type": "display_data",
          "data": {
            "text/html": [
              "<img src=\"http://www.iiia.csic.es/~marco/kr/images/IMG_20230314_151100.jpg\"/>"
            ],
            "text/plain": [
              "<IPython.core.display.Image object>"
            ]
          },
          "metadata": {}
        },
        {
          "output_type": "display_data",
          "data": {
            "text/html": [
              "<img src=\"http://www.iiia.csic.es/~marco/kr/images/IMG_20230314_152004.jpg\"/>"
            ],
            "text/plain": [
              "<IPython.core.display.Image object>"
            ]
          },
          "metadata": {}
        },
        {
          "output_type": "display_data",
          "data": {
            "text/html": [
              "<img src=\"http://www.iiia.csic.es/~marco/kr/images/IMG_20230314_151153.jpg\"/>"
            ],
            "text/plain": [
              "<IPython.core.display.Image object>"
            ]
          },
          "metadata": {}
        },
        {
          "output_type": "display_data",
          "data": {
            "text/html": [
              "<img src=\"http://www.iiia.csic.es/~marco/kr/images/IMG_20230202_152104.jpg\"/>"
            ],
            "text/plain": [
              "<IPython.core.display.Image object>"
            ]
          },
          "metadata": {}
        },
        {
          "output_type": "display_data",
          "data": {
            "text/html": [
              "<img src=\"http://www.iiia.csic.es/~marco/kr/images/IMG_20230314_184212.jpg\"/>"
            ],
            "text/plain": [
              "<IPython.core.display.Image object>"
            ]
          },
          "metadata": {}
        },
        {
          "output_type": "display_data",
          "data": {
            "text/html": [
              "<img src=\"http://www.iiia.csic.es/~marco/kr/images/IMG_20230202_153449.jpg\"/>"
            ],
            "text/plain": [
              "<IPython.core.display.Image object>"
            ]
          },
          "metadata": {}
        },
        {
          "output_type": "display_data",
          "data": {
            "text/html": [
              "<img src=\"http://www.iiia.csic.es/~marco/kr/images/IMG_20230314_145957.jpg\"/>"
            ],
            "text/plain": [
              "<IPython.core.display.Image object>"
            ]
          },
          "metadata": {}
        },
        {
          "output_type": "display_data",
          "data": {
            "text/html": [
              "<img src=\"http://www.iiia.csic.es/~marco/kr/images/IMG_20230314_150646.jpg\"/>"
            ],
            "text/plain": [
              "<IPython.core.display.Image object>"
            ]
          },
          "metadata": {}
        },
        {
          "output_type": "display_data",
          "data": {
            "text/html": [
              "<img src=\"http://www.iiia.csic.es/~marco/kr/images/IMG_20230314_153047.jpg\"/>"
            ],
            "text/plain": [
              "<IPython.core.display.Image object>"
            ]
          },
          "metadata": {}
        },
        {
          "output_type": "display_data",
          "data": {
            "text/html": [
              "<img src=\"http://www.iiia.csic.es/~marco/kr/images/IMG_20230202_154451.jpg\"/>"
            ],
            "text/plain": [
              "<IPython.core.display.Image object>"
            ]
          },
          "metadata": {}
        },
        {
          "output_type": "display_data",
          "data": {
            "text/html": [
              "<img src=\"http://www.iiia.csic.es/~marco/kr/images/IMG_20230314_184317.jpg\"/>"
            ],
            "text/plain": [
              "<IPython.core.display.Image object>"
            ]
          },
          "metadata": {}
        },
        {
          "output_type": "display_data",
          "data": {
            "text/html": [
              "<img src=\"http://www.iiia.csic.es/~marco/kr/images/IMG_20230202_153534.jpg\"/>"
            ],
            "text/plain": [
              "<IPython.core.display.Image object>"
            ]
          },
          "metadata": {}
        },
        {
          "output_type": "display_data",
          "data": {
            "text/html": [
              "<img src=\"http://www.iiia.csic.es/~marco/kr/images/IMG_20230314_150834.jpg\"/>"
            ],
            "text/plain": [
              "<IPython.core.display.Image object>"
            ]
          },
          "metadata": {}
        },
        {
          "output_type": "display_data",
          "data": {
            "text/html": [
              "<img src=\"http://www.iiia.csic.es/~marco/kr/images/IMG_20230202_153449.jpg\"/>"
            ],
            "text/plain": [
              "<IPython.core.display.Image object>"
            ]
          },
          "metadata": {}
        },
        {
          "output_type": "display_data",
          "data": {
            "text/html": [
              "<img src=\"http://www.iiia.csic.es/~marco/kr/images/IMG_20230314_150834.jpg\"/>"
            ],
            "text/plain": [
              "<IPython.core.display.Image object>"
            ]
          },
          "metadata": {}
        },
        {
          "output_type": "display_data",
          "data": {
            "text/html": [
              "<img src=\"http://www.iiia.csic.es/~marco/kr/images/IMG_20230314_150236.jpg\"/>"
            ],
            "text/plain": [
              "<IPython.core.display.Image object>"
            ]
          },
          "metadata": {}
        },
        {
          "output_type": "display_data",
          "data": {
            "text/html": [
              "<img src=\"http://www.iiia.csic.es/~marco/kr/images/IMG_20230314_150134.jpg\"/>"
            ],
            "text/plain": [
              "<IPython.core.display.Image object>"
            ]
          },
          "metadata": {}
        },
        {
          "output_type": "display_data",
          "data": {
            "text/html": [
              "<img src=\"http://www.iiia.csic.es/~marco/kr/images/IMG_20230314_184317.jpg\"/>"
            ],
            "text/plain": [
              "<IPython.core.display.Image object>"
            ]
          },
          "metadata": {}
        },
        {
          "output_type": "display_data",
          "data": {
            "text/html": [
              "<img src=\"http://www.iiia.csic.es/~marco/kr/images/IMG_20230202_153829.jpg\"/>"
            ],
            "text/plain": [
              "<IPython.core.display.Image object>"
            ]
          },
          "metadata": {}
        },
        {
          "output_type": "display_data",
          "data": {
            "text/html": [
              "<img src=\"http://www.iiia.csic.es/~marco/kr/images/IMG_20230202_154252.jpg\"/>"
            ],
            "text/plain": [
              "<IPython.core.display.Image object>"
            ]
          },
          "metadata": {}
        },
        {
          "output_type": "display_data",
          "data": {
            "text/html": [
              "<img src=\"http://www.iiia.csic.es/~marco/kr/images/IMG_20230202_154357.jpg\"/>"
            ],
            "text/plain": [
              "<IPython.core.display.Image object>"
            ]
          },
          "metadata": {}
        },
        {
          "output_type": "display_data",
          "data": {
            "text/html": [
              "<img src=\"http://www.iiia.csic.es/~marco/kr/images/IMG_20230202_154517.jpg\"/>"
            ],
            "text/plain": [
              "<IPython.core.display.Image object>"
            ]
          },
          "metadata": {}
        },
        {
          "output_type": "display_data",
          "data": {
            "text/html": [
              "<img src=\"http://www.iiia.csic.es/~marco/kr/images/IMG_20230314_150134.jpg\"/>"
            ],
            "text/plain": [
              "<IPython.core.display.Image object>"
            ]
          },
          "metadata": {}
        },
        {
          "output_type": "display_data",
          "data": {
            "text/html": [
              "<img src=\"http://www.iiia.csic.es/~marco/kr/images/IMG_20230202_154357.jpg\"/>"
            ],
            "text/plain": [
              "<IPython.core.display.Image object>"
            ]
          },
          "metadata": {}
        },
        {
          "output_type": "display_data",
          "data": {
            "text/html": [
              "<img src=\"http://www.iiia.csic.es/~marco/kr/images/IMG_20230314_153602.jpg\"/>"
            ],
            "text/plain": [
              "<IPython.core.display.Image object>"
            ]
          },
          "metadata": {}
        },
        {
          "output_type": "display_data",
          "data": {
            "text/html": [
              "<img src=\"http://www.iiia.csic.es/~marco/kr/images/IMG_20230202_154050.jpg\"/>"
            ],
            "text/plain": [
              "<IPython.core.display.Image object>"
            ]
          },
          "metadata": {}
        },
        {
          "output_type": "display_data",
          "data": {
            "text/html": [
              "<img src=\"http://www.iiia.csic.es/~marco/kr/images/IMG_20230202_154425.jpg\"/>"
            ],
            "text/plain": [
              "<IPython.core.display.Image object>"
            ]
          },
          "metadata": {}
        },
        {
          "output_type": "display_data",
          "data": {
            "text/html": [
              "<img src=\"http://www.iiia.csic.es/~marco/kr/images/IMG_20230202_153829.jpg\"/>"
            ],
            "text/plain": [
              "<IPython.core.display.Image object>"
            ]
          },
          "metadata": {}
        },
        {
          "output_type": "display_data",
          "data": {
            "text/html": [
              "<img src=\"http://www.iiia.csic.es/~marco/kr/images/IMG_20230314_153931.jpg\"/>"
            ],
            "text/plain": [
              "<IPython.core.display.Image object>"
            ]
          },
          "metadata": {}
        },
        {
          "output_type": "display_data",
          "data": {
            "text/html": [
              "<img src=\"http://www.iiia.csic.es/~marco/kr/images/IMG_20230314_150907.jpg\"/>"
            ],
            "text/plain": [
              "<IPython.core.display.Image object>"
            ]
          },
          "metadata": {}
        },
        {
          "output_type": "display_data",
          "data": {
            "text/html": [
              "<img src=\"http://www.iiia.csic.es/~marco/kr/images/IMG_20230314_151100.jpg\"/>"
            ],
            "text/plain": [
              "<IPython.core.display.Image object>"
            ]
          },
          "metadata": {}
        },
        {
          "output_type": "display_data",
          "data": {
            "text/html": [
              "<img src=\"http://www.iiia.csic.es/~marco/kr/images/IMG_20230202_152049.jpg\"/>"
            ],
            "text/plain": [
              "<IPython.core.display.Image object>"
            ]
          },
          "metadata": {}
        }
      ]
    },
    {
      "cell_type": "markdown",
      "source": [
        "## Which road signs in the database have the minimum number of different colors?"
      ],
      "metadata": {
        "id": "RMhbKuoo4QnV"
      }
    },
    {
      "cell_type": "code",
      "source": [
        "def roadSigns_with_min_colors():\n",
        "    min_colors = float('inf')  # initially set to infinity\n",
        "    min_color_signs = []\n",
        "    for individual in onto.individuals():\n",
        "        if isinstance(individual, onto.RoadSign):\n",
        "            colors = set()\n",
        "            if individual.borderColor:\n",
        "                colors.add(str(individual.borderColor).replace(file_name + '.', \"\"))\n",
        "            if individual.groundColor:\n",
        "                colors.add(str(individual.groundColor).replace(file_name + '.', \"\"))\n",
        "            if individual.symbolColor:\n",
        "                colors.add(str(individual.symbolColor).replace(file_name + '.', \"\"))\n",
        "\n",
        "            if len(colors) < min_colors:\n",
        "                min_colors = len(colors)\n",
        "                min_color_signs = [individual]\n",
        "            elif len(colors) == min_colors:\n",
        "                min_color_signs.append(individual)\n",
        "    return min_colors, min_color_signs\n",
        "\n",
        "min_colors, min_color_signs = roadSigns_with_min_colors()\n",
        "print(f'There are {len(min_color_signs)} images where signs with the minimum number of different colors ({min_colors}) appear')\n",
        "print(f\"Road signs with the minimum number of different colors ({min_colors}) are:\")\n",
        "for sign in min_color_signs:\n",
        "    display(Image(url=sign.filename[0])) #Take into account that we print some images that have more than one roadsign in it, so the roadsign we are refering to is the one with only 2 colors\n"
      ],
      "metadata": {
        "colab": {
          "base_uri": "https://localhost:8080/",
          "height": 1000
        },
        "id": "IUhHD3xR3ny3",
        "outputId": "40c0b062-7730-4221-b29f-9111218b87ee"
      },
      "execution_count": 102,
      "outputs": [
        {
          "output_type": "stream",
          "name": "stdout",
          "text": [
            "There are 27 images where signs with the minimum number of different colors (2) appear\n",
            "Road signs with the minimum number of different colors (2) are:\n"
          ]
        },
        {
          "output_type": "display_data",
          "data": {
            "text/html": [
              "<img src=\"http://www.iiia.csic.es/~marco/kr/images/IMG_20230314_184053.jpg\"/>"
            ],
            "text/plain": [
              "<IPython.core.display.Image object>"
            ]
          },
          "metadata": {}
        },
        {
          "output_type": "display_data",
          "data": {
            "text/html": [
              "<img src=\"http://www.iiia.csic.es/~marco/kr/images/IMG_20230314_152004.jpg\"/>"
            ],
            "text/plain": [
              "<IPython.core.display.Image object>"
            ]
          },
          "metadata": {}
        },
        {
          "output_type": "display_data",
          "data": {
            "text/html": [
              "<img src=\"http://www.iiia.csic.es/~marco/kr/images/IMG_20230202_154544.jpg\"/>"
            ],
            "text/plain": [
              "<IPython.core.display.Image object>"
            ]
          },
          "metadata": {}
        },
        {
          "output_type": "display_data",
          "data": {
            "text/html": [
              "<img src=\"http://www.iiia.csic.es/~marco/kr/images/IMG_20230202_154627.jpg\"/>"
            ],
            "text/plain": [
              "<IPython.core.display.Image object>"
            ]
          },
          "metadata": {}
        },
        {
          "output_type": "display_data",
          "data": {
            "text/html": [
              "<img src=\"http://www.iiia.csic.es/~marco/kr/images/IMG_20230314_184317.jpg\"/>"
            ],
            "text/plain": [
              "<IPython.core.display.Image object>"
            ]
          },
          "metadata": {}
        },
        {
          "output_type": "display_data",
          "data": {
            "text/html": [
              "<img src=\"http://www.iiia.csic.es/~marco/kr/images/IMG_20230202_154544.jpg\"/>"
            ],
            "text/plain": [
              "<IPython.core.display.Image object>"
            ]
          },
          "metadata": {}
        },
        {
          "output_type": "display_data",
          "data": {
            "text/html": [
              "<img src=\"http://www.iiia.csic.es/~marco/kr/images/IMG_20230202_154211.jpg\"/>"
            ],
            "text/plain": [
              "<IPython.core.display.Image object>"
            ]
          },
          "metadata": {}
        },
        {
          "output_type": "display_data",
          "data": {
            "text/html": [
              "<img src=\"http://www.iiia.csic.es/~marco/kr/images/IMG_20230202_154226.jpg\"/>"
            ],
            "text/plain": [
              "<IPython.core.display.Image object>"
            ]
          },
          "metadata": {}
        },
        {
          "output_type": "display_data",
          "data": {
            "text/html": [
              "<img src=\"http://www.iiia.csic.es/~marco/kr/images/IMG_20230314_152542.jpg\"/>"
            ],
            "text/plain": [
              "<IPython.core.display.Image object>"
            ]
          },
          "metadata": {}
        },
        {
          "output_type": "display_data",
          "data": {
            "text/html": [
              "<img src=\"http://www.iiia.csic.es/~marco/kr/images/IMG_20230202_152933.jpg\"/>"
            ],
            "text/plain": [
              "<IPython.core.display.Image object>"
            ]
          },
          "metadata": {}
        },
        {
          "output_type": "display_data",
          "data": {
            "text/html": [
              "<img src=\"http://www.iiia.csic.es/~marco/kr/images/IMG_20230314_153901.jpg\"/>"
            ],
            "text/plain": [
              "<IPython.core.display.Image object>"
            ]
          },
          "metadata": {}
        },
        {
          "output_type": "display_data",
          "data": {
            "text/html": [
              "<img src=\"http://www.iiia.csic.es/~marco/kr/images/IMG_20230314_184212.jpg\"/>"
            ],
            "text/plain": [
              "<IPython.core.display.Image object>"
            ]
          },
          "metadata": {}
        },
        {
          "output_type": "display_data",
          "data": {
            "text/html": [
              "<img src=\"http://www.iiia.csic.es/~marco/kr/images/IMG_20230314_150918.jpg\"/>"
            ],
            "text/plain": [
              "<IPython.core.display.Image object>"
            ]
          },
          "metadata": {}
        },
        {
          "output_type": "display_data",
          "data": {
            "text/html": [
              "<img src=\"http://www.iiia.csic.es/~marco/kr/images/IMG_20230202_151915.jpg\"/>"
            ],
            "text/plain": [
              "<IPython.core.display.Image object>"
            ]
          },
          "metadata": {}
        },
        {
          "output_type": "display_data",
          "data": {
            "text/html": [
              "<img src=\"http://www.iiia.csic.es/~marco/kr/images/IMG_20230202_153657.jpg\"/>"
            ],
            "text/plain": [
              "<IPython.core.display.Image object>"
            ]
          },
          "metadata": {}
        },
        {
          "output_type": "display_data",
          "data": {
            "text/html": [
              "<img src=\"http://www.iiia.csic.es/~marco/kr/images/IMG_20230202_153121.jpg\"/>"
            ],
            "text/plain": [
              "<IPython.core.display.Image object>"
            ]
          },
          "metadata": {}
        },
        {
          "output_type": "display_data",
          "data": {
            "text/html": [
              "<img src=\"http://www.iiia.csic.es/~marco/kr/images/IMG_20230202_152836.jpg\"/>"
            ],
            "text/plain": [
              "<IPython.core.display.Image object>"
            ]
          },
          "metadata": {}
        },
        {
          "output_type": "display_data",
          "data": {
            "text/html": [
              "<img src=\"http://www.iiia.csic.es/~marco/kr/images/IMG_20230314_150013.jpg\"/>"
            ],
            "text/plain": [
              "<IPython.core.display.Image object>"
            ]
          },
          "metadata": {}
        },
        {
          "output_type": "display_data",
          "data": {
            "text/html": [
              "<img src=\"http://www.iiia.csic.es/~marco/kr/images/IMG_20230202_153657.jpg\"/>"
            ],
            "text/plain": [
              "<IPython.core.display.Image object>"
            ]
          },
          "metadata": {}
        },
        {
          "output_type": "display_data",
          "data": {
            "text/html": [
              "<img src=\"http://www.iiia.csic.es/~marco/kr/images/IMG_20230202_153238.jpg\"/>"
            ],
            "text/plain": [
              "<IPython.core.display.Image object>"
            ]
          },
          "metadata": {}
        },
        {
          "output_type": "display_data",
          "data": {
            "text/html": [
              "<img src=\"http://www.iiia.csic.es/~marco/kr/images/IMG_20230202_154708.jpg\"/>"
            ],
            "text/plain": [
              "<IPython.core.display.Image object>"
            ]
          },
          "metadata": {}
        },
        {
          "output_type": "display_data",
          "data": {
            "text/html": [
              "<img src=\"http://www.iiia.csic.es/~marco/kr/images/IMG_20230202_151932.jpg\"/>"
            ],
            "text/plain": [
              "<IPython.core.display.Image object>"
            ]
          },
          "metadata": {}
        },
        {
          "output_type": "display_data",
          "data": {
            "text/html": [
              "<img src=\"http://www.iiia.csic.es/~marco/kr/images/IMG_20230202_154357.jpg\"/>"
            ],
            "text/plain": [
              "<IPython.core.display.Image object>"
            ]
          },
          "metadata": {}
        },
        {
          "output_type": "display_data",
          "data": {
            "text/html": [
              "<img src=\"http://www.iiia.csic.es/~marco/kr/images/IMG_20230202_154744.jpg\"/>"
            ],
            "text/plain": [
              "<IPython.core.display.Image object>"
            ]
          },
          "metadata": {}
        },
        {
          "output_type": "display_data",
          "data": {
            "text/html": [
              "<img src=\"http://www.iiia.csic.es/~marco/kr/images/IMG_20230202_151646.jpg\"/>"
            ],
            "text/plain": [
              "<IPython.core.display.Image object>"
            ]
          },
          "metadata": {}
        },
        {
          "output_type": "display_data",
          "data": {
            "text/html": [
              "<img src=\"http://www.iiia.csic.es/~marco/kr/images/IMG_20230202_152836.jpg\"/>"
            ],
            "text/plain": [
              "<IPython.core.display.Image object>"
            ]
          },
          "metadata": {}
        },
        {
          "output_type": "display_data",
          "data": {
            "text/html": [
              "<img src=\"http://www.iiia.csic.es/~marco/kr/images/IMG_20230202_153131.jpg\"/>"
            ],
            "text/plain": [
              "<IPython.core.display.Image object>"
            ]
          },
          "metadata": {}
        }
      ]
    },
    {
      "cell_type": "markdown",
      "source": [
        "## Which is the most common symbol across all roadsings in the dataset?"
      ],
      "metadata": {
        "id": "YluzAYga7t66"
      }
    },
    {
      "cell_type": "code",
      "source": [
        "from collections import Counter\n",
        "\n",
        "def most_common_symbol():\n",
        "  symbol_counter = Counter()\n",
        "  \n",
        "  for individual in onto.individuals():\n",
        "    if isinstance(individual, onto.RoadSign):\n",
        "      if individual.symbol:\n",
        "        symbol_counter[individual.symbol[0]] += 1\n",
        "  \n",
        "  most_common_symbol, amount = symbol_counter.most_common(1)[0]\n",
        "\n",
        "  return most_common_symbol, amount\n",
        "\n",
        "print(f\"The most common symbol across all road sign dataset is: {most_common_symbol()[0]} with {most_common_symbol()[1]} instances\")\n"
      ],
      "metadata": {
        "colab": {
          "base_uri": "https://localhost:8080/"
        },
        "id": "0R_z67_v7v3T",
        "outputId": "4f07de39-25c2-44af-e272-61f89bdd0db8"
      },
      "execution_count": 114,
      "outputs": [
        {
          "output_type": "stream",
          "name": "stdout",
          "text": [
            "The most common symbol across all road sign dataset is: DefinitivaPopulada.PEDESTRIAN_CROSSING with 6 instances\n"
          ]
        }
      ]
    },
    {
      "cell_type": "markdown",
      "source": [
        "## Which is the most common roadsign type in this dataset?"
      ],
      "metadata": {
        "id": "excnPfVE8-ZD"
      }
    },
    {
      "cell_type": "code",
      "source": [
        "def most_common_road_sign_type():\n",
        "  type_counter = Counter()\n",
        "\n",
        "  for individual in onto.individuals():\n",
        "    if isinstance(individual, onto.RoadSign):\n",
        "      for road_sign_class in onto.RoadSign.subclasses():\n",
        "        if isinstance(individual, road_sign_class):\n",
        "          type_counter[str(road_sign_class).replace(file_name + '.', \"\")] += 1\n",
        "\n",
        "  most_common_type, _ = type_counter.most_common(1)[0]\n",
        "  return most_common_type\n",
        "\n",
        "print(f\"The type of road sign with the most instances is: {most_common_road_sign_type()}\")\n",
        "\n"
      ],
      "metadata": {
        "colab": {
          "base_uri": "https://localhost:8080/"
        },
        "id": "UY06J01l8_Da",
        "outputId": "79d553ef-28ed-4ccd-98c3-6e09d1feb798"
      },
      "execution_count": 116,
      "outputs": [
        {
          "output_type": "stream",
          "name": "stdout",
          "text": [
            "The type of road sign with the most instances is: DefinitivaPopulada.RegulatorySign\n"
          ]
        }
      ]
    }
  ]
}