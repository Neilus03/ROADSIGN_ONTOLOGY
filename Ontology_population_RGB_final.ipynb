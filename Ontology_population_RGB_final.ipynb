{
  "nbformat": 4,
  "nbformat_minor": 0,
  "metadata": {
    "colab": {
      "provenance": []
    },
    "kernelspec": {
      "name": "python3",
      "display_name": "Python 3"
    },
    "language_info": {
      "name": "python"
    }
  },
  "cells": [
    {
      "cell_type": "code",
      "execution_count": null,
      "metadata": {
        "colab": {
          "base_uri": "https://localhost:8080/"
        },
        "id": "P8cGCbMjjawD",
        "outputId": "00acd6bd-decc-4a7b-a1ee-1cc416e307ed"
      },
      "outputs": [
        {
          "output_type": "stream",
          "name": "stdout",
          "text": [
            "Looking in indexes: https://pypi.org/simple, https://us-python.pkg.dev/colab-wheels/public/simple/\n",
            "Collecting owlready2\n",
            "  Downloading Owlready2-0.41.tar.gz (27.4 MB)\n",
            "\u001b[2K     \u001b[90m━━━━━━━━━━━━━━━━━━━━━━━━━━━━━━━━━━━━━━━━\u001b[0m \u001b[32m27.4/27.4 MB\u001b[0m \u001b[31m30.8 MB/s\u001b[0m eta \u001b[36m0:00:00\u001b[0m\n",
            "\u001b[?25h  Preparing metadata (setup.py) ... \u001b[?25l\u001b[?25hdone\n",
            "Collecting rdflib\n",
            "  Downloading rdflib-6.3.2-py3-none-any.whl (528 kB)\n",
            "\u001b[2K     \u001b[90m━━━━━━━━━━━━━━━━━━━━━━━━━━━━━━━━━━━━━━\u001b[0m \u001b[32m528.1/528.1 kB\u001b[0m \u001b[31m30.3 MB/s\u001b[0m eta \u001b[36m0:00:00\u001b[0m\n",
            "\u001b[?25hCollecting isodate<0.7.0,>=0.6.0 (from rdflib)\n",
            "  Downloading isodate-0.6.1-py2.py3-none-any.whl (41 kB)\n",
            "\u001b[2K     \u001b[90m━━━━━━━━━━━━━━━━━━━━━━━━━━━━━━━━━━━━━━━\u001b[0m \u001b[32m41.7/41.7 kB\u001b[0m \u001b[31m488.1 kB/s\u001b[0m eta \u001b[36m0:00:00\u001b[0m\n",
            "\u001b[?25hRequirement already satisfied: pyparsing<4,>=2.1.0 in /usr/local/lib/python3.10/dist-packages (from rdflib) (3.0.9)\n",
            "Requirement already satisfied: six in /usr/local/lib/python3.10/dist-packages (from isodate<0.7.0,>=0.6.0->rdflib) (1.16.0)\n",
            "Building wheels for collected packages: owlready2\n",
            "  Building wheel for owlready2 (setup.py) ... \u001b[?25l\u001b[?25hdone\n",
            "  Created wheel for owlready2: filename=Owlready2-0.41-cp310-cp310-linux_x86_64.whl size=24170139 sha256=16e4cd54b69c5765071125b32f6df3433eb4f740645af4b6f89b2c57eab1aaa3\n",
            "  Stored in directory: /root/.cache/pip/wheels/da/02/c0/a65e08daab6da8123998823c9aee7bba656b1500ab05d183ef\n",
            "Successfully built owlready2\n",
            "Installing collected packages: owlready2, isodate, rdflib\n",
            "Successfully installed isodate-0.6.1 owlready2-0.41 rdflib-6.3.2\n"
          ]
        }
      ],
      "source": [
        "!pip3 install -U owlready2 rdflib"
      ]
    },
    {
      "cell_type": "code",
      "source": [
        "import rdflib\n",
        "from owlready2 import get_ontology\n",
        "from rdflib import Graph\n",
        "from rdflib.namespace import RDF, FOAF\n",
        "from rdflib import Namespace\n",
        "from rdflib import Literal, XSD"
      ],
      "metadata": {
        "id": "QfRlXZGlEYMV"
      },
      "execution_count": null,
      "outputs": []
    },
    {
      "cell_type": "code",
      "source": [
        "#Information in the web of roadsings\n",
        "graph  = Graph()\n",
        "graph.parse(\"/content/rgb_roadsign_data.ttl\")\n",
        "\n",
        "#Ontology to populate (Our ontology)\n",
        "Graph_onto = Graph()\n",
        "onto = get_ontology(\"/content/DefinitivaSinPopular.rdf\").load() #Our ontology. "
      ],
      "metadata": {
        "id": "P3ySa5dxjei8"
      },
      "execution_count": null,
      "outputs": []
    },
    {
      "cell_type": "markdown",
      "source": [
        "## Categorize colors"
      ],
      "metadata": {
        "id": "GcZ8r0DRKYfv"
      }
    },
    {
      "cell_type": "code",
      "source": [
        "from scipy.spatial import Voronoi, voronoi_plot_2d\n",
        "import numpy as np\n",
        "from ast import literal_eval\n",
        "\n",
        "def categorize_colors(color_space, colors):\n",
        "    \"\"\"\n",
        "    Categorize a list of colors in a color space according to Voronoi tessellation.\n",
        "    :param color_space: a dictionary of prototype colors and their coordinates in the color space\n",
        "    :param colors: a list of colors to categorize in the color space\n",
        "    :return: a dictionary of the closest prototype color for each input color\n",
        "    \"\"\"\n",
        "    # Create a list of coordinates for the prototype colors\n",
        "    points = [v for k, v in color_space.items()]\n",
        "    # Compute the Voronoi tessellation for the prototype colors\n",
        "    vor = Voronoi(points)\n",
        "    # Create a dictionary to store the closest prototype color for each input color\n",
        "    categories = {}\n",
        "    # Find the closest prototype color for each input color\n",
        "    for color in colors:\n",
        "        # Parse the color to a tuple if it's a string\n",
        "        c = literal_eval(color) if isinstance(color, str) else color\n",
        "        # Compute the distances between the input color and the prototype colors\n",
        "        distances = [(i, np.linalg.norm(np.array(c) - np.array(p))) for i, p in enumerate(points)]\n",
        "        # Sort the distances by distance value\n",
        "        distances.sort(key=lambda x: x[1])\n",
        "        # The closest prototype color is the one with the smallest distance\n",
        "        closest = distances[0][0]\n",
        "        # Add the closest prototype color to the categories dictionary\n",
        "        categories[color] = list(color_space.keys())[closest]\n",
        "    return categories\n",
        "\n"
      ],
      "metadata": {
        "id": "r8ve0UHODw8I"
      },
      "execution_count": null,
      "outputs": []
    },
    {
      "cell_type": "code",
      "source": [
        "color_space = {\n",
        "    'RED': (255, 0, 0),\n",
        "    'BLUE': (0, 0, 255),\n",
        "    'BLACK': (0, 0, 0),\n",
        "    'WHITE': (255, 255, 255)\n",
        "}"
      ],
      "metadata": {
        "id": "cRkZ4f2IKXlY"
      },
      "execution_count": null,
      "outputs": []
    },
    {
      "cell_type": "markdown",
      "source": [
        "## Just some testing:"
      ],
      "metadata": {
        "id": "RUowJOIXW9VL"
      }
    },
    {
      "cell_type": "code",
      "source": [
        "colors = [\"(25,13,1)\", \"(100,150,200)\"]"
      ],
      "metadata": {
        "id": "GDkwgr_XOnMh"
      },
      "execution_count": null,
      "outputs": []
    },
    {
      "cell_type": "code",
      "source": [
        "categorize_colors(color_space, colors)"
      ],
      "metadata": {
        "colab": {
          "base_uri": "https://localhost:8080/"
        },
        "id": "L75RqvbVOjqN",
        "outputId": "6cb2dc84-3c7c-4a71-f3f1-a65766580b52"
      },
      "execution_count": null,
      "outputs": [
        {
          "output_type": "execute_result",
          "data": {
            "text/plain": [
              "{'(25,13,1)': 'BLACK', '(100,150,200)': 'BLUE'}"
            ]
          },
          "metadata": {},
          "execution_count": 7
        }
      ]
    },
    {
      "cell_type": "code",
      "source": [
        "colors = [(255,255,0)]"
      ],
      "metadata": {
        "id": "ZQoXyZoQRBYY"
      },
      "execution_count": null,
      "outputs": []
    },
    {
      "cell_type": "code",
      "source": [
        "categorize_colors(color_space, colors)"
      ],
      "metadata": {
        "colab": {
          "base_uri": "https://localhost:8080/"
        },
        "id": "HPYKt7cdREGH",
        "outputId": "4b78d83f-b8bf-4b16-edd0-671e764919ee"
      },
      "execution_count": null,
      "outputs": [
        {
          "output_type": "execute_result",
          "data": {
            "text/plain": [
              "{(255, 255, 0): 'RED'}"
            ]
          },
          "metadata": {},
          "execution_count": 9
        }
      ]
    },
    {
      "cell_type": "code",
      "source": [
        "list(categorize_colors(color_space, [\"(0,23,250)\"]).items())[0][1]"
      ],
      "metadata": {
        "colab": {
          "base_uri": "https://localhost:8080/",
          "height": 35
        },
        "id": "KgW-rHfRMCVy",
        "outputId": "a5687a9f-f967-4834-a2a2-7c035d8080d5"
      },
      "execution_count": null,
      "outputs": [
        {
          "output_type": "execute_result",
          "data": {
            "text/plain": [
              "'BLUE'"
            ],
            "application/vnd.google.colaboratory.intrinsic+json": {
              "type": "string"
            }
          },
          "metadata": {},
          "execution_count": 10
        }
      ]
    },
    {
      "cell_type": "markdown",
      "source": [
        "##Ontology Population"
      ],
      "metadata": {
        "id": "eFnBGnofTSWw"
      }
    },
    {
      "cell_type": "code",
      "source": [
        "RSS = Namespace(\"http://www.iiia.csic.es/~marco/kr/roadsign-schema#\")\n",
        "instances = {}\n",
        "for s, p, o in graph:   #graph is a list of tuples, each tuple is called a Triplet of the form (subject, predicate, object)\n",
        " if p == RDF.type and o == RSS.road_sign:  #If the predicate of a triplet is of type RDF and the object is a RoadSign\n",
        "     instances[s] = onto.RoadSign()"
      ],
      "metadata": {
        "id": "vTzYW3JWjudu"
      },
      "execution_count": null,
      "outputs": []
    },
    {
      "cell_type": "code",
      "source": [
        "for s, p, o in graph:\n",
        "  if p == FOAF.depicts:\n",
        "    instances[o].filename = [s.toPython()]\n",
        "\n",
        "  if s in instances:\n",
        "    value = o.toPython().upper().replace(\" \",\"_\")\n",
        "    value = value.replace(\"%\", \"percent\")\n",
        "\n",
        "    if value.startswith(\"(\"):\n",
        "      value = value #I dont want the RGB tuples to be changed from , separated values to dot separated values\n",
        "    else:\n",
        "      value = value.replace(\",\", \".\")\n",
        "    \n",
        "    if (p == RSS.shape):\n",
        "      instances[s].shape = onto.Shape(value)\n",
        "\n",
        "    if (p == RSS.ground_colour):\n",
        "      if value.startswith(\"(\"):\n",
        "        value = list(categorize_colors(color_space, [value]).items())[0][1]\n",
        "        instances[s].groundColor = onto.Color(value)\n",
        "      else:\n",
        "        instances[s].groundColor = onto.Color(value)\n",
        "\n",
        "    if (p == RSS.border_colour):\n",
        "      if value.startswith(\"(\"):\n",
        "        value = list(categorize_colors(color_space, [value]).items())[0][1]\n",
        "        instances[s].borderColor =  [onto.Color(value)]\n",
        "      else:\n",
        "        instances[s].borderColor =  [onto.Color(value)]\n",
        "\n",
        "    if (p == RSS.symbol):\n",
        "      instances[s].symbol = [onto.Symbol(value)]\n",
        "\n",
        "    if (p == RSS.symbol_colour):\n",
        "      if value.startswith(\"(\"):\n",
        "        value = list(categorize_colors(color_space, [value]).items())[0][1]\n",
        "        instances[s].symbolColor =  [onto.Color(value)]\n",
        "      else:\n",
        "        instances[s].symbolColor = [onto.Color(value)]\n",
        "\n",
        "    if (p == RSS.symbol_value):      \n",
        "      instances[s].symbolValue = [value]\n"
      ],
      "metadata": {
        "id": "iWhnFeLGkhLK"
      },
      "execution_count": null,
      "outputs": []
    },
    {
      "cell_type": "code",
      "source": [
        "onto.save(\"/content/DefinitivaPopulada\")"
      ],
      "metadata": {
        "id": "Usw7w7DF3Oap"
      },
      "execution_count": null,
      "outputs": []
    }
  ]
}