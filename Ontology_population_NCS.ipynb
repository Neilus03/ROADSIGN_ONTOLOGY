{
  "nbformat": 4,
  "nbformat_minor": 0,
  "metadata": {
    "colab": {
      "provenance": [],
      "include_colab_link": true
    },
    "kernelspec": {
      "name": "python3",
      "display_name": "Python 3"
    },
    "language_info": {
      "name": "python"
    }
  },
  "cells": [
    {
      "cell_type": "markdown",
      "metadata": {
        "id": "view-in-github",
        "colab_type": "text"
      },
      "source": [
        "<a href=\"https://colab.research.google.com/github/Neilus03/ROADSIGN_ONTOLOGY/blob/main/Ontology_population_NCS.ipynb\" target=\"_parent\"><img src=\"https://colab.research.google.com/assets/colab-badge.svg\" alt=\"Open In Colab\"/></a>"
      ]
    },
    {
      "cell_type": "code",
      "execution_count": 1,
      "metadata": {
        "colab": {
          "base_uri": "https://localhost:8080/"
        },
        "id": "P8cGCbMjjawD",
        "outputId": "11b2cb10-854d-4ed7-edb6-6817e8563ca0"
      },
      "outputs": [
        {
          "output_type": "stream",
          "name": "stdout",
          "text": [
            "Looking in indexes: https://pypi.org/simple, https://us-python.pkg.dev/colab-wheels/public/simple/\n",
            "Collecting owlready2\n",
            "  Downloading Owlready2-0.41.tar.gz (27.4 MB)\n",
            "\u001b[2K     \u001b[90m━━━━━━━━━━━━━━━━━━━━━━━━━━━━━━━━━━━━━━━━\u001b[0m \u001b[32m27.4/27.4 MB\u001b[0m \u001b[31m13.2 MB/s\u001b[0m eta \u001b[36m0:00:00\u001b[0m\n",
            "\u001b[?25h  Preparing metadata (setup.py) ... \u001b[?25l\u001b[?25hdone\n",
            "Collecting rdflib\n",
            "  Downloading rdflib-6.3.2-py3-none-any.whl (528 kB)\n",
            "\u001b[2K     \u001b[90m━━━━━━━━━━━━━━━━━━━━━━━━━━━━━━━━━━━━━━\u001b[0m \u001b[32m528.1/528.1 kB\u001b[0m \u001b[31m24.8 MB/s\u001b[0m eta \u001b[36m0:00:00\u001b[0m\n",
            "\u001b[?25hRequirement already satisfied: pyparsing<4,>=2.1.0 in /usr/local/lib/python3.10/dist-packages (from rdflib) (3.0.9)\n",
            "Collecting isodate<0.7.0,>=0.6.0\n",
            "  Downloading isodate-0.6.1-py2.py3-none-any.whl (41 kB)\n",
            "\u001b[2K     \u001b[90m━━━━━━━━━━━━━━━━━━━━━━━━━━━━━━━━━━━━━━━━\u001b[0m \u001b[32m41.7/41.7 kB\u001b[0m \u001b[31m1.5 MB/s\u001b[0m eta \u001b[36m0:00:00\u001b[0m\n",
            "\u001b[?25hRequirement already satisfied: six in /usr/local/lib/python3.10/dist-packages (from isodate<0.7.0,>=0.6.0->rdflib) (1.16.0)\n",
            "Building wheels for collected packages: owlready2\n",
            "  Building wheel for owlready2 (setup.py) ... \u001b[?25l\u001b[?25hdone\n",
            "  Created wheel for owlready2: filename=Owlready2-0.41-cp310-cp310-linux_x86_64.whl size=24170167 sha256=1ef9239a03fab8beaa754f6d7ad094bd5a77a9f2b50d58fbe97a4fda81e7c37a\n",
            "  Stored in directory: /root/.cache/pip/wheels/da/02/c0/a65e08daab6da8123998823c9aee7bba656b1500ab05d183ef\n",
            "Successfully built owlready2\n",
            "Installing collected packages: owlready2, isodate, rdflib\n",
            "Successfully installed isodate-0.6.1 owlready2-0.41 rdflib-6.3.2\n"
          ]
        }
      ],
      "source": [
        "!pip3 install -U owlready2 rdflib"
      ]
    },
    {
      "cell_type": "code",
      "source": [
        "import rdflib\n",
        "from owlready2 import get_ontology\n",
        "from rdflib import Graph\n",
        "from rdflib.namespace import RDF, FOAF\n",
        "from rdflib import Namespace\n",
        "from rdflib import Literal, XSD"
      ],
      "metadata": {
        "id": "QfRlXZGlEYMV"
      },
      "execution_count": 10,
      "outputs": []
    },
    {
      "cell_type": "code",
      "source": [
        "import urllib.request\n",
        "\n",
        "url = 'http://www.iiia.csic.es/~marco/kr/roadsign-data.ttl'\n",
        "filename = 'roadsign-data.ttl'\n",
        "\n",
        "urllib.request.urlretrieve(url, filename)\n"
      ],
      "metadata": {
        "colab": {
          "base_uri": "https://localhost:8080/"
        },
        "id": "t3NlqSeJD_75",
        "outputId": "f3023db7-917d-4638-b424-4561b7d21f82"
      },
      "execution_count": 11,
      "outputs": [
        {
          "output_type": "execute_result",
          "data": {
            "text/plain": [
              "('roadsign-data.ttl', <http.client.HTTPMessage at 0x7ff3d0ca49d0>)"
            ]
          },
          "metadata": {},
          "execution_count": 11
        }
      ]
    },
    {
      "cell_type": "code",
      "source": [
        "with open('roadsign-data.ttl', 'r') as f:\n",
        "    data = f.read()\n",
        "\n",
        "# Replace the colour terms\n",
        "data = data.replace('red', 'NCS 1080-R')\n",
        "data = data.replace('blue', 'NCS 4055-R95B')\n",
        "data = data.replace('white', 'NCS S0500-N')\n",
        "data = data.replace('black', 'NCS S9000-N')\n",
        "\n",
        "# Write the modified TTL file\n",
        "with open('modified.ttl', 'w') as f:\n",
        "    f.write(data)"
      ],
      "metadata": {
        "id": "pasoBZ_jEbct"
      },
      "execution_count": 12,
      "outputs": []
    },
    {
      "cell_type": "code",
      "source": [
        "\n",
        "\n",
        "#Information in the web of roadsings\n",
        "graph  = Graph()\n",
        "graph.parse(\"/content/modified.ttl\")\n",
        "\n",
        "#Ontologi to populate (Our ontologi)\n",
        "Graph_onto = Graph()\n",
        "onto = get_ontology(\"/content/Population_Session8\").load()"
      ],
      "metadata": {
        "id": "P3ySa5dxjei8"
      },
      "execution_count": 16,
      "outputs": []
    },
    {
      "cell_type": "code",
      "source": [],
      "metadata": {
        "id": "r8ve0UHODw8I"
      },
      "execution_count": null,
      "outputs": []
    },
    {
      "cell_type": "markdown",
      "source": [
        "# Nueva sección"
      ],
      "metadata": {
        "id": "eFnBGnofTSWw"
      }
    },
    {
      "cell_type": "code",
      "source": [
        "RSS = Namespace(\"http://www.iiia.csic.es/~marco/kr/roadsign-schema#\")\n",
        "instances = {}\n",
        "for s, p, o in graph:   #graph is a list of tuples, each tuple is called a Triplet of the form (subject, predicate, object)\n",
        " if p == RDF.type and o == RSS.road_sign:  #If the predicate of a triplet is of type RDF and the object is a RoadSign\n",
        "     instances[s] = onto.RoadSign()"
      ],
      "metadata": {
        "id": "vTzYW3JWjudu"
      },
      "execution_count": 17,
      "outputs": []
    },
    {
      "cell_type": "code",
      "source": [
        "instances"
      ],
      "metadata": {
        "colab": {
          "base_uri": "https://localhost:8080/"
        },
        "id": "ID7XXqtI0XrE",
        "outputId": "76492871-d70b-4728-de44-7f53bcdd4d32"
      },
      "execution_count": 18,
      "outputs": [
        {
          "output_type": "execute_result",
          "data": {
            "text/plain": [
              "{rdflib.term.BNode('nbdbad89ce06d48d0a3897287d7bbc05eb12'): Population_Session8.roadsign178,\n",
              " rdflib.term.BNode('nbdbad89ce06d48d0a3897287d7bbc05eb25'): Population_Session8.roadsign179,\n",
              " rdflib.term.BNode('nbdbad89ce06d48d0a3897287d7bbc05eb59'): Population_Session8.roadsign180,\n",
              " rdflib.term.BNode('nbdbad89ce06d48d0a3897287d7bbc05eb21'): Population_Session8.roadsign181,\n",
              " rdflib.term.BNode('nbdbad89ce06d48d0a3897287d7bbc05eb51'): Population_Session8.roadsign182,\n",
              " rdflib.term.BNode('nbdbad89ce06d48d0a3897287d7bbc05eb41'): Population_Session8.roadsign183,\n",
              " rdflib.term.BNode('nbdbad89ce06d48d0a3897287d7bbc05eb46'): Population_Session8.roadsign184,\n",
              " rdflib.term.BNode('nbdbad89ce06d48d0a3897287d7bbc05eb10'): Population_Session8.roadsign185,\n",
              " rdflib.term.BNode('nbdbad89ce06d48d0a3897287d7bbc05eb6'): Population_Session8.roadsign186,\n",
              " rdflib.term.BNode('nbdbad89ce06d48d0a3897287d7bbc05eb29'): Population_Session8.roadsign187,\n",
              " rdflib.term.BNode('nbdbad89ce06d48d0a3897287d7bbc05eb52'): Population_Session8.roadsign188,\n",
              " rdflib.term.BNode('nbdbad89ce06d48d0a3897287d7bbc05eb56'): Population_Session8.roadsign189,\n",
              " rdflib.term.BNode('nbdbad89ce06d48d0a3897287d7bbc05eb57'): Population_Session8.roadsign190,\n",
              " rdflib.term.BNode('nbdbad89ce06d48d0a3897287d7bbc05eb28'): Population_Session8.roadsign191,\n",
              " rdflib.term.BNode('nbdbad89ce06d48d0a3897287d7bbc05eb16'): Population_Session8.roadsign192,\n",
              " rdflib.term.BNode('nbdbad89ce06d48d0a3897287d7bbc05eb3'): Population_Session8.roadsign193,\n",
              " rdflib.term.BNode('nbdbad89ce06d48d0a3897287d7bbc05eb2'): Population_Session8.roadsign194,\n",
              " rdflib.term.BNode('nbdbad89ce06d48d0a3897287d7bbc05eb1'): Population_Session8.roadsign195,\n",
              " rdflib.term.BNode('nbdbad89ce06d48d0a3897287d7bbc05eb27'): Population_Session8.roadsign196,\n",
              " rdflib.term.BNode('nbdbad89ce06d48d0a3897287d7bbc05eb47'): Population_Session8.roadsign197,\n",
              " rdflib.term.BNode('nbdbad89ce06d48d0a3897287d7bbc05eb18'): Population_Session8.roadsign198,\n",
              " rdflib.term.BNode('nbdbad89ce06d48d0a3897287d7bbc05eb48'): Population_Session8.roadsign199,\n",
              " rdflib.term.BNode('nbdbad89ce06d48d0a3897287d7bbc05eb8'): Population_Session8.roadsign200,\n",
              " rdflib.term.BNode('nbdbad89ce06d48d0a3897287d7bbc05eb34'): Population_Session8.roadsign201,\n",
              " rdflib.term.BNode('nbdbad89ce06d48d0a3897287d7bbc05eb19'): Population_Session8.roadsign202,\n",
              " rdflib.term.BNode('nbdbad89ce06d48d0a3897287d7bbc05eb14'): Population_Session8.roadsign203,\n",
              " rdflib.term.BNode('nbdbad89ce06d48d0a3897287d7bbc05eb13'): Population_Session8.roadsign204,\n",
              " rdflib.term.BNode('nbdbad89ce06d48d0a3897287d7bbc05eb54'): Population_Session8.roadsign205,\n",
              " rdflib.term.BNode('nbdbad89ce06d48d0a3897287d7bbc05eb26'): Population_Session8.roadsign206,\n",
              " rdflib.term.BNode('nbdbad89ce06d48d0a3897287d7bbc05eb35'): Population_Session8.roadsign207,\n",
              " rdflib.term.BNode('nbdbad89ce06d48d0a3897287d7bbc05eb40'): Population_Session8.roadsign208,\n",
              " rdflib.term.BNode('nbdbad89ce06d48d0a3897287d7bbc05eb30'): Population_Session8.roadsign209,\n",
              " rdflib.term.BNode('nbdbad89ce06d48d0a3897287d7bbc05eb22'): Population_Session8.roadsign210,\n",
              " rdflib.term.BNode('nbdbad89ce06d48d0a3897287d7bbc05eb36'): Population_Session8.roadsign211,\n",
              " rdflib.term.BNode('nbdbad89ce06d48d0a3897287d7bbc05eb4'): Population_Session8.roadsign212,\n",
              " rdflib.term.BNode('nbdbad89ce06d48d0a3897287d7bbc05eb37'): Population_Session8.roadsign213,\n",
              " rdflib.term.BNode('nbdbad89ce06d48d0a3897287d7bbc05eb49'): Population_Session8.roadsign214,\n",
              " rdflib.term.BNode('nbdbad89ce06d48d0a3897287d7bbc05eb38'): Population_Session8.roadsign215,\n",
              " rdflib.term.BNode('nbdbad89ce06d48d0a3897287d7bbc05eb11'): Population_Session8.roadsign216,\n",
              " rdflib.term.BNode('nbdbad89ce06d48d0a3897287d7bbc05eb20'): Population_Session8.roadsign217,\n",
              " rdflib.term.BNode('nbdbad89ce06d48d0a3897287d7bbc05eb50'): Population_Session8.roadsign218,\n",
              " rdflib.term.BNode('nbdbad89ce06d48d0a3897287d7bbc05eb55'): Population_Session8.roadsign219,\n",
              " rdflib.term.BNode('nbdbad89ce06d48d0a3897287d7bbc05eb24'): Population_Session8.roadsign220,\n",
              " rdflib.term.BNode('nbdbad89ce06d48d0a3897287d7bbc05eb23'): Population_Session8.roadsign221,\n",
              " rdflib.term.BNode('nbdbad89ce06d48d0a3897287d7bbc05eb53'): Population_Session8.roadsign222,\n",
              " rdflib.term.BNode('nbdbad89ce06d48d0a3897287d7bbc05eb5'): Population_Session8.roadsign223,\n",
              " rdflib.term.BNode('nbdbad89ce06d48d0a3897287d7bbc05eb43'): Population_Session8.roadsign224,\n",
              " rdflib.term.BNode('nbdbad89ce06d48d0a3897287d7bbc05eb32'): Population_Session8.roadsign225,\n",
              " rdflib.term.BNode('nbdbad89ce06d48d0a3897287d7bbc05eb39'): Population_Session8.roadsign226,\n",
              " rdflib.term.BNode('nbdbad89ce06d48d0a3897287d7bbc05eb42'): Population_Session8.roadsign227,\n",
              " rdflib.term.BNode('nbdbad89ce06d48d0a3897287d7bbc05eb58'): Population_Session8.roadsign228,\n",
              " rdflib.term.BNode('nbdbad89ce06d48d0a3897287d7bbc05eb17'): Population_Session8.roadsign229,\n",
              " rdflib.term.BNode('nbdbad89ce06d48d0a3897287d7bbc05eb31'): Population_Session8.roadsign230,\n",
              " rdflib.term.BNode('nbdbad89ce06d48d0a3897287d7bbc05eb15'): Population_Session8.roadsign231,\n",
              " rdflib.term.BNode('nbdbad89ce06d48d0a3897287d7bbc05eb45'): Population_Session8.roadsign232,\n",
              " rdflib.term.BNode('nbdbad89ce06d48d0a3897287d7bbc05eb33'): Population_Session8.roadsign233,\n",
              " rdflib.term.BNode('nbdbad89ce06d48d0a3897287d7bbc05eb7'): Population_Session8.roadsign234,\n",
              " rdflib.term.BNode('nbdbad89ce06d48d0a3897287d7bbc05eb44'): Population_Session8.roadsign235,\n",
              " rdflib.term.BNode('nbdbad89ce06d48d0a3897287d7bbc05eb9'): Population_Session8.roadsign236}"
            ]
          },
          "metadata": {},
          "execution_count": 18
        }
      ]
    },
    {
      "cell_type": "code",
      "source": [
        "for s, p, o in graph:\n",
        "  if p == RDF.type and o == RSS.road_sign:\n",
        "    instances[s] = onto.RoadSign()\n",
        "\n",
        "for s, p, o in graph:\n",
        "  if p == FOAF.depicts:\n",
        "    instances[o].filename = [s.toPython()]\n",
        "\n",
        "  if s in instances:\n",
        "    value = o.toPython().upper().replace(\" \",\"_\")\n",
        "    value = value.replace(\"%\", \"_percent\")\n",
        "    value = value.replace(\",\", \".\")\n",
        "    \n",
        "    if (p == RSS.shape):\n",
        "      instances[s].shape = [onto.Shape(value)]\n",
        "\n",
        "    if (p == RSS.ground_colour):\n",
        "      if value.startswith(\"NCS \"):\n",
        "        instances[s].groundColor = [onto.NCSColor(value[4:])]\n",
        "      else:\n",
        "        instances[s].groundColor = [onto.Color(value)]\n",
        "\n",
        "    if (p == RSS.border_colour):\n",
        "      if value.startswith(\"NCS \"):\n",
        "        instances[s].borderColor = [onto.NCSColor(value[4:])]\n",
        "      else:\n",
        "        instances[s].borderColor = [onto.Color(value)]\n",
        "\n",
        "    if (p == RSS.symbol):\n",
        "      instances[s].symbol = [onto.Symbol(value)]\n",
        "\n",
        "    if (p == RSS.symbol_colour):\n",
        "      if value.startswith(\"NCS \"):\n",
        "        instances[s].symbolColor = [onto.NCSColor(value[4:])]\n",
        "      else:\n",
        "        instances[s].symbolColor = [onto.Color(value)]\n",
        "\n",
        "    if (p == RSS.symbol_value):      \n",
        "      instances[s].symbolValue = [onto.Value(value)]\n"
      ],
      "metadata": {
        "id": "iWhnFeLGkhLK",
        "colab": {
          "base_uri": "https://localhost:8080/",
          "height": 365
        },
        "outputId": "dfd1371d-d2bb-4404-85e1-ab700fe4e9f1"
      },
      "execution_count": 19,
      "outputs": [
        {
          "output_type": "error",
          "ename": "AttributeError",
          "evalue": "ignored",
          "traceback": [
            "\u001b[0;31m---------------------------------------------------------------------------\u001b[0m",
            "\u001b[0;31mAttributeError\u001b[0m                            Traceback (most recent call last)",
            "\u001b[0;32m<ipython-input-19-d7ab0a31e303>\u001b[0m in \u001b[0;36m<cell line: 5>\u001b[0;34m()\u001b[0m\n\u001b[1;32m     13\u001b[0m \u001b[0;34m\u001b[0m\u001b[0m\n\u001b[1;32m     14\u001b[0m     \u001b[0;32mif\u001b[0m \u001b[0;34m(\u001b[0m\u001b[0mp\u001b[0m \u001b[0;34m==\u001b[0m \u001b[0mRSS\u001b[0m\u001b[0;34m.\u001b[0m\u001b[0mshape\u001b[0m\u001b[0;34m)\u001b[0m\u001b[0;34m:\u001b[0m\u001b[0;34m\u001b[0m\u001b[0;34m\u001b[0m\u001b[0m\n\u001b[0;32m---> 15\u001b[0;31m       \u001b[0minstances\u001b[0m\u001b[0;34m[\u001b[0m\u001b[0ms\u001b[0m\u001b[0;34m]\u001b[0m\u001b[0;34m.\u001b[0m\u001b[0mshape\u001b[0m \u001b[0;34m=\u001b[0m \u001b[0;34m[\u001b[0m\u001b[0monto\u001b[0m\u001b[0;34m.\u001b[0m\u001b[0mShape\u001b[0m\u001b[0;34m(\u001b[0m\u001b[0mvalue\u001b[0m\u001b[0;34m)\u001b[0m\u001b[0;34m]\u001b[0m\u001b[0;34m\u001b[0m\u001b[0;34m\u001b[0m\u001b[0m\n\u001b[0m\u001b[1;32m     16\u001b[0m \u001b[0;34m\u001b[0m\u001b[0m\n\u001b[1;32m     17\u001b[0m     \u001b[0;32mif\u001b[0m \u001b[0;34m(\u001b[0m\u001b[0mp\u001b[0m \u001b[0;34m==\u001b[0m \u001b[0mRSS\u001b[0m\u001b[0;34m.\u001b[0m\u001b[0mground_colour\u001b[0m\u001b[0;34m)\u001b[0m\u001b[0;34m:\u001b[0m\u001b[0;34m\u001b[0m\u001b[0;34m\u001b[0m\u001b[0m\n",
            "\u001b[0;32m/usr/local/lib/python3.10/dist-packages/owlready2/individual.py\u001b[0m in \u001b[0;36m__setattr__\u001b[0;34m(self, attr, value)\u001b[0m\n\u001b[1;32m    321\u001b[0m               \u001b[0mself\u001b[0m\u001b[0;34m.\u001b[0m\u001b[0mnamespace\u001b[0m\u001b[0;34m.\u001b[0m\u001b[0mworld\u001b[0m\u001b[0;34m.\u001b[0m\u001b[0m_del_obj_triple_spo\u001b[0m\u001b[0;34m(\u001b[0m\u001b[0mself\u001b[0m\u001b[0;34m.\u001b[0m\u001b[0mstorid\u001b[0m\u001b[0;34m,\u001b[0m \u001b[0mProp\u001b[0m\u001b[0;34m.\u001b[0m\u001b[0mstorid\u001b[0m\u001b[0;34m,\u001b[0m \u001b[0;32mNone\u001b[0m\u001b[0;34m)\u001b[0m\u001b[0;34m\u001b[0m\u001b[0;34m\u001b[0m\u001b[0m\n\u001b[1;32m    322\u001b[0m             \u001b[0;32melse\u001b[0m\u001b[0;34m:\u001b[0m\u001b[0;34m\u001b[0m\u001b[0;34m\u001b[0m\u001b[0m\n\u001b[0;32m--> 323\u001b[0;31m               \u001b[0mself\u001b[0m\u001b[0;34m.\u001b[0m\u001b[0mnamespace\u001b[0m\u001b[0;34m.\u001b[0m\u001b[0montology\u001b[0m\u001b[0;34m.\u001b[0m\u001b[0m_set_obj_triple_spo\u001b[0m\u001b[0;34m(\u001b[0m\u001b[0mself\u001b[0m\u001b[0;34m.\u001b[0m\u001b[0mstorid\u001b[0m\u001b[0;34m,\u001b[0m \u001b[0mProp\u001b[0m\u001b[0;34m.\u001b[0m\u001b[0mstorid\u001b[0m\u001b[0;34m,\u001b[0m \u001b[0mvalue\u001b[0m\u001b[0;34m.\u001b[0m\u001b[0mstorid\u001b[0m\u001b[0;34m)\u001b[0m\u001b[0;34m\u001b[0m\u001b[0;34m\u001b[0m\u001b[0m\n\u001b[0m\u001b[1;32m    324\u001b[0m               \u001b[0;32mtry\u001b[0m\u001b[0;34m:\u001b[0m \u001b[0;32mdel\u001b[0m \u001b[0mvalue\u001b[0m\u001b[0;34m.\u001b[0m\u001b[0m__dict__\u001b[0m\u001b[0;34m[\u001b[0m\u001b[0minverse_python_name\u001b[0m\u001b[0;34m]\u001b[0m\u001b[0;34m\u001b[0m\u001b[0;34m\u001b[0m\u001b[0m\n\u001b[1;32m    325\u001b[0m               \u001b[0;32mexcept\u001b[0m \u001b[0;34m(\u001b[0m\u001b[0mTypeError\u001b[0m\u001b[0;34m,\u001b[0m \u001b[0mKeyError\u001b[0m\u001b[0;34m)\u001b[0m\u001b[0;34m:\u001b[0m \u001b[0;32mpass\u001b[0m\u001b[0;34m\u001b[0m\u001b[0;34m\u001b[0m\u001b[0m\n",
            "\u001b[0;31mAttributeError\u001b[0m: 'list' object has no attribute 'storid'"
          ]
        }
      ]
    },
    {
      "cell_type": "code",
      "source": [
        "from owlready2 import *"
      ],
      "metadata": {
        "id": "3llEuEJYqIC2"
      },
      "execution_count": null,
      "outputs": []
    },
    {
      "cell_type": "code",
      "source": [
        "sync_reasoner()"
      ],
      "metadata": {
        "id": "UIqymi4Box_G"
      },
      "execution_count": null,
      "outputs": []
    },
    {
      "cell_type": "code",
      "source": [
        "#What is the shape of ‘danger warning’ signs?\n",
        "def Danger_Warning_Shape():\n",
        "  shapes = set()\n",
        "  for individual in onto.individuals(): \n",
        "    if isinstance(individual, onto.DangerWarningSign) and individual.shape is not None:\n",
        "      shapes.add(str(individual.shape).replace(\"Population_Session8.\", \"\"))\n",
        "  return shapes\n",
        "\n",
        "shapes = Danger_Warning_Shape()\n",
        "shapes = \", \".join(list(shapes))\n",
        "print(f\"The shape of a Danger Warining Sign is: {shapes}\")"
      ],
      "metadata": {
        "id": "-2zCfzYPqFCP"
      },
      "execution_count": null,
      "outputs": []
    },
    {
      "cell_type": "code",
      "source": [
        "def RoadSings_Pedestrians():\n",
        "  RoadSigns_pedestrians = []\n",
        "  for individual in onto.individuals():\n",
        "      # Check if the individual represents a RoadSign with a \"PEDESTRIAN\" symbol\n",
        "      if isinstance(individual, onto.RoadSign) and individual.symbol is not None and \"PEDESTRIAN\" in str(individual.symbol):\n",
        "          RoadSigns_pedestrians.append(individual)\n",
        "  return RoadSigns_pedestrians\n",
        "  \n",
        "RoadSigns_pedestrians = RoadSings_Pedestrians()\n",
        "print(f\"The RoadSings with the a pedestrian symbol are: {RoadSigns_pedestrians}\")"
      ],
      "metadata": {
        "id": "vHorfqmXegPa"
      },
      "execution_count": null,
      "outputs": []
    },
    {
      "cell_type": "code",
      "source": [
        "#Which road signs are depicted in image IMG_20230202_154357.jpg?\n",
        "def get_roadsign(image):\n",
        "  roadsigns = []\n",
        "  for x in onto.individuals():\n",
        "    if isinstance(x, onto.RoadSign) and len(x.filename[0]) > 0 and x.filename[0] is not None:\n",
        "      if image in x.filename[0]:\n",
        "        roadsigns.append(x)\n",
        "  return roadsigns\n",
        "\n",
        "get_roadsign(\"IMG_20230202_154357.jpg\")\n"
      ],
      "metadata": {
        "id": "cizOIYAkaun4"
      },
      "execution_count": null,
      "outputs": []
    },
    {
      "cell_type": "code",
      "source": [
        "#Are there instances of a ‘compulsory minimum speed’ sign?"
      ],
      "metadata": {
        "id": "YdmWRm5aon1h"
      },
      "execution_count": null,
      "outputs": []
    },
    {
      "cell_type": "code",
      "source": [
        "#What percentage of road signs depicted in the image repository are \n",
        "#prohibitory signs?\n",
        "\n",
        "rs = [x for x in onto.individuals() if isinstance(x,onto.RoadSign)]\n",
        "ps = [x for x in onto.individuals() if isinstance(x,onto.ProhibitorySign)]\n",
        "print(round(len(ps)/len(rs)*100,2),\"%\")"
      ],
      "metadata": {
        "id": "-gyGSfrkr6hZ"
      },
      "execution_count": null,
      "outputs": []
    },
    {
      "cell_type": "code",
      "source": [
        "for i in onto.individuals():\n",
        "  print(i)"
      ],
      "metadata": {
        "id": "2yZVHZufrodu"
      },
      "execution_count": null,
      "outputs": []
    },
    {
      "cell_type": "code",
      "source": [
        "#Is there any road sign in the image repository that informs about a restriction applicable to lorries or other large \n",
        "#vehicles?\n",
        "def Restriction_large_vehicles():\n",
        "  RoadSigns_pedestrians = []\n",
        "  for individual in onto.individuals():\n",
        "      # Check if the individual represents a RoadSign with a \"PEDESTRIAN\" symbol\n",
        "      if isinstance(individual, onto.RoadSign) and individual.symbol is not None:\n",
        "        if \"\" in str(individual.symbol):\n",
        "          RoadSigns_pedestrians.append(individual)\n",
        "  return RoadSigns_pedestrians\n",
        "  \n",
        "RoadSigns_pedestrians = RoadSings_Pedestrians()\n",
        "print(f\"The RoadSings with the a pedestrian symbol are: {RoadSigns_pedestrians}\")"
      ],
      "metadata": {
        "id": "HLFeIGwzpj_a"
      },
      "execution_count": null,
      "outputs": []
    },
    {
      "cell_type": "code",
      "source": [
        "#onto.save(\"/content/Population_Session8\")"
      ],
      "metadata": {
        "id": "Usw7w7DF3Oap"
      },
      "execution_count": null,
      "outputs": []
    }
  ]
}